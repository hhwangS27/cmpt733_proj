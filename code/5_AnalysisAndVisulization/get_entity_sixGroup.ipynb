{
 "cells": [
  {
   "cell_type": "code",
   "execution_count": null,
   "metadata": {},
   "outputs": [],
   "source": [
    "#import pandas as pd\n",
    "#df = pd.read_csv('pmids_titles.csv', dtype={'PMID': 'int64'})\n",
    "#\n",
    "## for the speed, PMID use an integer to represent!\n",
    "#pmid_list = df['PMID'].tolist()\n",
    "#title_list = df['Title'].tolist()\n",
    "#pmid2ind = {}\n",
    "#for i, pmid in enumerate(pmid_list):\n",
    "#    pmid2ind.update({pmid:i})\n",
    "#import pickle\n",
    "#with open('pmid_list', 'wb') as f:\n",
    "#    pickle.dump(pmid_list, f)\n",
    "#with open('title_list', 'wb') as f:\n",
    "#    pickle.dump(title_list, f)\n",
    "#import pickle\n",
    "#with open('pmid2ind', 'wb') as f:\n",
    "#    pickle.dump(pmid2ind, f)"
   ]
  },
  {
   "cell_type": "markdown",
   "metadata": {},
   "source": [
    "df.dtypes\n",
    "\n",
    "PMID      int64\n",
    "Title    object\n",
    "dtype: object"
   ]
  },
  {
   "cell_type": "code",
   "execution_count": 1,
   "metadata": {},
   "outputs": [
    {
     "name": "stdout",
     "output_type": "stream",
     "text": [
      "Pixiedust database opened successfully\n"
     ]
    },
    {
     "data": {
      "text/html": [
       "\n",
       "        <div style=\"margin:10px\">\n",
       "            <a href=\"https://github.com/ibm-watson-data-lab/pixiedust\" target=\"_new\">\n",
       "                <img src=\"https://github.com/ibm-watson-data-lab/pixiedust/raw/master/docs/_static/pd_icon32.png\" style=\"float:left;margin-right:10px\"/>\n",
       "            </a>\n",
       "            <span>Pixiedust version 1.1.15</span>\n",
       "        </div>\n",
       "        "
      ],
      "text/plain": [
       "<IPython.core.display.HTML object>"
      ]
     },
     "metadata": {},
     "output_type": "display_data"
    }
   ],
   "source": [
    "import pixiedust\n",
    "import pickle\n",
    "with open('pmid_list', 'rb') as f:\n",
    "    pmid_list = pickle.load(f)\n",
    "with open('title_list', 'rb') as f:\n",
    "    title_list = pickle.load(f)\n",
    "with open('pmid2ind', 'rb') as f:\n",
    "    pmid2ind = pickle.load(f)"
   ]
  },
  {
   "cell_type": "markdown",
   "metadata": {},
   "source": [
    "pmid_list[slice(5)]\n",
    "\n",
    "[25999454, 23640184, 18466097, 24474498, 26710337]"
   ]
  },
  {
   "cell_type": "markdown",
   "metadata": {},
   "source": [
    "title_list[slice(5)]\n",
    "\n",
    "['Inherited genetic variation in childhood acute lymphoblastic leukemia.',\n",
    " 'Challenges in pharmacogenetics.',\n",
    " 'Serotonin type 3 receptor genes: HTR3A, B, C, D, E.',\n",
    " 'VKORC1 and CYP2C9 genotypes are predictors of warfarin-related outcomes in children.',\n",
    " 'A Randomized Trial of Pharmacogenetic Warfarin Dosing in Naïve Patients with Non-Valvular Atrial Fibrillation.']"
   ]
  },
  {
   "cell_type": "code",
   "execution_count": 2,
   "metadata": {},
   "outputs": [],
   "source": [
    "class Node(object):\n",
    "    def __init__(self, **kv):\n",
    "        \n",
    "        if 'depth' in kv: \n",
    "            self.depth = kv['depth']\n",
    "        else:\n",
    "            self.depth = 0\n",
    "            \n",
    "        if 'entity_pmid' in kv: \n",
    "            self.entity_pmid = kv['entity_pmid']\n",
    "        else:\n",
    "            self.entity_pmid = None\n",
    "                \n",
    "        if 'pmids' in kv: \n",
    "            self.pmids = kv['pmids']\n",
    "        else:\n",
    "            self.pmids = []\n",
    "            \n",
    "        if 'id' in kv: \n",
    "            self.id = kv['id']\n",
    "        else:\n",
    "            self.id = None\n",
    "        \n",
    "        self.children = []"
   ]
  },
  {
   "cell_type": "markdown",
   "metadata": {},
   "source": [
    "# Prepare gbc data."
   ]
  },
  {
   "cell_type": "code",
   "execution_count": 20,
   "metadata": {},
   "outputs": [],
   "source": [
    "#import pandas as pd\n",
    "#df = pd.read_csv('gbc_ff.csv', dtype={'PMID':'int64'})\n",
    "#gbc_pmids = df['PMID'].tolist()\n",
    "#gbc_titles = df['Title'].tolist()\n",
    "#gbc_pmid2ind = {}\n",
    "#for i,pmid in enumerate(gbc_pmids):\n",
    "#    gbc_pmid2ind.update({pmid:i})\n",
    "#import pickle\n",
    "#with open('gbc_pmids', 'wb') as f:\n",
    "#    pickle.dump(gbc_pmids, f)\n",
    "#with open('gbc_titles', 'wb') as f:\n",
    "#    pickle.dump(gbc_titles, f)\n",
    "#with open('gbc_pmid2ind', 'wb') as f:\n",
    "#    pickle.dump(gbc_pmid2ind, f)\n",
    "import pickle\n",
    "with open('gbc_pmids', 'rb') as f:\n",
    "    gbc_pmids=pickle.load(f)\n",
    "with open('gbc_titles', 'rb') as f:\n",
    "    gbc_titles=pickle.load(f)\n",
    "with open('gbc_pmid2ind', 'rb') as f:\n",
    "    gbc_pmid2ind=pickle.load(f)"
   ]
  },
  {
   "cell_type": "markdown",
   "metadata": {},
   "source": [
    "# Get entity_sixGroup"
   ]
  },
  {
   "cell_type": "code",
   "execution_count": 3,
   "metadata": {},
   "outputs": [],
   "source": [
    "import pickle\n",
    "with open('depth5_nodes_visitedConstrain', 'rb') as f:\n",
    "    nodes = pickle.load(f)"
   ]
  },
  {
   "cell_type": "code",
   "execution_count": 21,
   "metadata": {},
   "outputs": [],
   "source": [
    "entity_sixGroup = []\n",
    "for _ in range(len(pmid_list)):\n",
    "    entity_sixGroup.append({1:set(), 2:set(), 3:set(), 4:set(), 5:set(), 6:set()})\n",
    "for node in nodes:\n",
    "    if node.depth!=0:\n",
    "        entity_sixGroup[pmid2ind[node.entity_pmid]][node.depth].update(node.pmids)"
   ]
  },
  {
   "cell_type": "code",
   "execution_count": 22,
   "metadata": {},
   "outputs": [],
   "source": [
    "gbc_pmids_set = set(gbc_pmids)\n",
    "for entity in entity_sixGroup:\n",
    "    for i in range(1,7):\n",
    "        entity[i] = entity[i]&gbc_pmids_set"
   ]
  },
  {
   "cell_type": "code",
   "execution_count": 24,
   "metadata": {},
   "outputs": [],
   "source": [
    "import pickle\n",
    "with open('depth5_nodes_visitedConstrain_entity_sixGroup', 'wb') as f:\n",
    "    pickle.dump(entity_sixGroup, f)"
   ]
  }
 ],
 "metadata": {
  "kernelspec": {
   "display_name": "Python 3",
   "language": "python",
   "name": "python3"
  },
  "language_info": {
   "codemirror_mode": {
    "name": "ipython",
    "version": 3
   },
   "file_extension": ".py",
   "mimetype": "text/x-python",
   "name": "python",
   "nbconvert_exporter": "python",
   "pygments_lexer": "ipython3",
   "version": "3.7.1"
  },
  "toc": {
   "base_numbering": 1,
   "nav_menu": {},
   "number_sections": true,
   "sideBar": true,
   "skip_h1_title": false,
   "title_cell": "Table of Contents",
   "title_sidebar": "Contents",
   "toc_cell": false,
   "toc_position": {},
   "toc_section_display": true,
   "toc_window_display": false
  }
 },
 "nbformat": 4,
 "nbformat_minor": 2
}
