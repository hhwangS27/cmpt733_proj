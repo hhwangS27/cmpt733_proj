{
 "cells": [
  {
   "cell_type": "markdown",
   "metadata": {},
   "source": [
    "# Visulization"
   ]
  },
  {
   "cell_type": "markdown",
   "metadata": {},
   "source": [
    "# The reference relation of the Genome BC funded papers. (3Dversion)"
   ]
  },
  {
   "cell_type": "code",
   "execution_count": 2,
   "metadata": {},
   "outputs": [],
   "source": [
    "import plotly.graph_objs as go\n",
    "import plotly.plotly as py\n",
    "import plotly\n",
    "\n",
    "\n",
    "user_name = 'hhwang927'\n",
    "api_key = '4gRXZGy3krwJNke5yaPD'\n",
    "plotly.tools.set_credentials_file(username=user_name, api_key=api_key)"
   ]
  },
  {
   "cell_type": "code",
   "execution_count": 3,
   "metadata": {},
   "outputs": [],
   "source": [
    "import pickle\n",
    "with open('gbc_graph_data_degree1plus.pickle', 'rb') as f:\n",
    "    data = pickle.load(f)"
   ]
  },
  {
   "cell_type": "code",
   "execution_count": 4,
   "metadata": {},
   "outputs": [
    {
     "name": "stdout",
     "output_type": "stream",
     "text": [
      "{'name': 'A tiling resolution DNA microarray with complete coverage of the human genome.', 'group': 1, 'in-deg': 25, 'out-deg': 0, 'ori_ind': 59}\n",
      "{'name': 'ABySS: a parallel assembler for short read sequence data.', 'group': 1, 'in-deg': 30, 'out-deg': 2, 'ori_ind': 619}\n"
     ]
    }
   ],
   "source": [
    "import pickle\n",
    "with open('gbc_graph_data_degree1plus.pickle', 'rb') as f:\n",
    "    data = pickle.load(f)\n",
    "for node in data['nodes']:\n",
    "    if 'a parallel assembler for short' in node['name']:\n",
    "        print(node)\n",
    "    if node['name'].startswith('A tiling resolution DNA'):\n",
    "        print(node)"
   ]
  },
  {
   "cell_type": "code",
   "execution_count": 5,
   "metadata": {},
   "outputs": [],
   "source": [
    "labels=[]\n",
    "group=[]\n",
    "size=[]\n",
    "for node in data['nodes']:\n",
    "    labels.append(node['name'])\n",
    "    group.append(node['group'])\n",
    "    size.append(node['in-deg']) "
   ]
  },
  {
   "cell_type": "code",
   "execution_count": 6,
   "metadata": {},
   "outputs": [],
   "source": [
    "import igraph as ig\n",
    "import pickle\n",
    "L=len(data['links'])\n",
    "Edges=[(data['links'][k]['source'], data['links'][k]['target']) for k in range(L)]\n",
    "with open('layout_with_degree1plus.pickle', 'rb') as f:\n",
    "    layt = pickle.load(f)"
   ]
  },
  {
   "cell_type": "code",
   "execution_count": 7,
   "metadata": {},
   "outputs": [],
   "source": [
    "N = len(layt)\n",
    "Xn=[layt[k][0] for k in range(N)]# x-coordinates of nodes\n",
    "Yn=[layt[k][1] for k in range(N)]# y-coordinates\n",
    "Zn=[layt[k][2] for k in range(N)]# z-coordinates\n",
    "Xe=[]\n",
    "Ye=[]\n",
    "Ze=[]\n",
    "for e in Edges:\n",
    "    Xe+=[layt[e[0]][0],layt[e[1]][0], None]# x-coordinates of edge ends\n",
    "    Ye+=[layt[e[0]][1],layt[e[1]][1], None]  \n",
    "    Ze+=[layt[e[0]][2],layt[e[1]][2], None] "
   ]
  },
  {
   "cell_type": "code",
   "execution_count": 8,
   "metadata": {},
   "outputs": [],
   "source": [
    "trace1=go.Scatter3d(x=Xe,\n",
    "               y=Ye,\n",
    "               z=Ze,\n",
    "               mode='lines',\n",
    "               line=dict(color='rgb(125,125,125)', width=1),\n",
    "               hoverinfo='none'\n",
    "               )\n",
    "import math\n",
    "\n",
    "trace2=go.Scatter3d(x=Xn,\n",
    "               y=Yn,\n",
    "               z=Zn,\n",
    "               mode='markers',\n",
    "               name='actors',\n",
    "               marker=dict(symbol='circle',\n",
    "                             #size=list(map(lambda x:5*math.sqrt(x), size)),\n",
    "                             size=size,\n",
    "                             color=group,\n",
    "                             colorscale='Viridis',\n",
    "                             line=dict(color='rgb(50,50,50)', width=0.5)\n",
    "                             ),\n",
    "               text=labels,\n",
    "               hoverinfo='text'\n",
    "               )\n",
    "\n",
    "axis=dict(showbackground=False,\n",
    "          showline=False,\n",
    "          zeroline=False,\n",
    "          showgrid=False,\n",
    "          showticklabels=False,\n",
    "          title=''\n",
    "          )\n",
    "\n",
    "layout = go.Layout(\n",
    "         title=\"Reference Relation of Genome BC funded papers\",\n",
    "         width=1000,\n",
    "         height=1000,\n",
    "         showlegend=False,\n",
    "         scene=dict(\n",
    "             xaxis=dict(axis),\n",
    "             yaxis=dict(axis),\n",
    "             zaxis=dict(axis),\n",
    "        ),\n",
    "     margin=dict(\n",
    "        t=100\n",
    "    ),\n",
    "    hovermode='closest',\n",
    "    annotations=[\n",
    "           dict(\n",
    "           showarrow=False,\n",
    "           text=\"The more the paper got cited, the bigger the circle will be.\",\n",
    "            xref='paper',\n",
    "            yref='paper',\n",
    "            x=0,\n",
    "            y=0.1,\n",
    "            xanchor='left',\n",
    "            yanchor='bottom',\n",
    "            font=dict(\n",
    "            size=14\n",
    "            )\n",
    "            )\n",
    "        ],    )"
   ]
  },
  {
   "cell_type": "code",
   "execution_count": 10,
   "metadata": {},
   "outputs": [
    {
     "name": "stderr",
     "output_type": "stream",
     "text": [
      "/home/honghuiw/anaconda3/lib/python3.7/site-packages/IPython/core/display.py:689: UserWarning:\n",
      "\n",
      "Consider using IPython.display.IFrame instead\n",
      "\n"
     ]
    },
    {
     "data": {
      "text/html": [
       "<iframe id=\"igraph\" scrolling=\"no\" style=\"border:none;\" seamless=\"seamless\" src=\"https://plot.ly/~hhwang927/2.embed\" height=\"1000px\" width=\"1000px\"></iframe>"
      ],
      "text/plain": [
       "<plotly.tools.PlotlyDisplay object>"
      ]
     },
     "execution_count": 10,
     "metadata": {},
     "output_type": "execute_result"
    }
   ],
   "source": [
    "data=[trace1, trace2]\n",
    "fig=go.Figure(data=data, layout=layout)\n",
    "\n",
    "py.iplot(fig, filename='gbc_papers_relation')"
   ]
  },
  {
   "cell_type": "markdown",
   "metadata": {},
   "source": [
    "# The reference relation of the Genome BC funded papers. (2Dversion)"
   ]
  },
  {
   "cell_type": "code",
   "execution_count": 30,
   "metadata": {},
   "outputs": [],
   "source": [
    "import plotly.graph_objs as go\n",
    "import plotly.plotly as py\n",
    "import plotly\n",
    "\n",
    "\n",
    "user_name = 'hhwang927'\n",
    "api_key = '4gRXZGy3krwJNke5yaPD'\n",
    "plotly.tools.set_credentials_file(username=user_name, api_key=api_key)"
   ]
  },
  {
   "cell_type": "code",
   "execution_count": 31,
   "metadata": {},
   "outputs": [],
   "source": [
    "import pickle\n",
    "with open('gbc_graph_data_degree1plus.pickle', 'rb') as f:\n",
    "    data = pickle.load(f)"
   ]
  },
  {
   "cell_type": "code",
   "execution_count": 32,
   "metadata": {},
   "outputs": [
    {
     "name": "stdout",
     "output_type": "stream",
     "text": [
      "{'name': 'A tiling resolution DNA microarray with complete coverage of the human genome.', 'group': 1, 'in-deg': 25, 'out-deg': 0, 'ori_ind': 59}\n",
      "{'name': 'ABySS: a parallel assembler for short read sequence data.', 'group': 1, 'in-deg': 30, 'out-deg': 2, 'ori_ind': 619}\n"
     ]
    }
   ],
   "source": [
    "import pickle\n",
    "with open('gbc_graph_data_degree1plus.pickle', 'rb') as f:\n",
    "    data = pickle.load(f)\n",
    "for node in data['nodes']:\n",
    "    if 'a parallel assembler for short' in node['name']:\n",
    "        print(node)\n",
    "    if node['name'].startswith('A tiling resolution DNA'):\n",
    "        print(node)"
   ]
  },
  {
   "cell_type": "code",
   "execution_count": 33,
   "metadata": {},
   "outputs": [],
   "source": [
    "labels=[]\n",
    "group=[]\n",
    "size=[]\n",
    "for node in data['nodes']:\n",
    "    labels.append(node['name'])\n",
    "    group.append(node['group'])\n",
    "    size.append(node['in-deg']) "
   ]
  },
  {
   "cell_type": "code",
   "execution_count": 34,
   "metadata": {},
   "outputs": [],
   "source": [
    "import igraph as ig\n",
    "L=len(data['links'])\n",
    "#Edges=[(data['links'][k]['source'], data['links'][k]['target'], data['links'][k]['value']) for k in range(L)]\n",
    "Edges=[(data['links'][k]['source'], data['links'][k]['target']) for k in range(L)]\n",
    "\n",
    "#G=ig.Graph.TupleList(Edges, directed=False)\n",
    "G=ig.Graph(Edges, directed=False)\n",
    "layt = G.layout('kk', dim=2)"
   ]
  },
  {
   "cell_type": "code",
   "execution_count": 35,
   "metadata": {},
   "outputs": [],
   "source": [
    "N = len(layt)\n",
    "Xn=[layt[k][0] for k in range(N)]# x-coordinates of nodes\n",
    "Yn=[layt[k][1] for k in range(N)]# y-coordinates\n",
    "Xe=[]\n",
    "Ye=[]\n",
    "for e in Edges:\n",
    "    Xe+=[layt[e[0]][0],layt[e[1]][0], None]# x-coordinates of edge ends\n",
    "    Ye+=[layt[e[0]][1],layt[e[1]][1], None]  "
   ]
  },
  {
   "cell_type": "code",
   "execution_count": 36,
   "metadata": {},
   "outputs": [],
   "source": [
    "trace1=go.Scatter(x=Xe,\n",
    "               y=Ye,\n",
    "               mode='lines',\n",
    "               line=dict(color='rgb(125,125,125)', width=0.2),\n",
    "               hoverinfo='none'\n",
    "               )\n",
    "import math\n",
    "\n",
    "trace2=go.Scatter(x=Xn,\n",
    "               y=Yn,\n",
    "               mode='markers',\n",
    "               name='actors',\n",
    "               marker=dict(symbol='circle',\n",
    "                             #size=list(map(lambda x:5*math.sqrt(x), size)),\n",
    "                             size=size,\n",
    "                             color=group,\n",
    "                             colorscale='Viridis',\n",
    "                             line=dict(color='rgb(50,50,50)', width=0.5)\n",
    "                             ),\n",
    "               text=labels,\n",
    "               hoverinfo='text'\n",
    "               )\n",
    "\n",
    "axis=dict(\n",
    "          showline=False,\n",
    "          zeroline=False,\n",
    "          showgrid=False,\n",
    "          showticklabels=False,\n",
    "          title=''\n",
    "          )\n",
    "\n",
    "layout = go.Layout(\n",
    "     title=\"Reference Relation of Genome BC funded papers\",\n",
    "     width=1000,\n",
    "     height=1000,\n",
    "     showlegend=False,\n",
    "     xaxis=dict(axis),\n",
    "     yaxis=dict(axis),\n",
    "     margin=dict( t=100 ),\n",
    "     hovermode='closest',\n",
    "     annotations=[\n",
    "           dict(\n",
    "           showarrow=False,\n",
    "           text=\"The more the paper got cited, the bigger the circle will be.\",\n",
    "            xref='paper',\n",
    "            yref='paper',\n",
    "            x=0,\n",
    "            y=0,\n",
    "            xanchor='left',\n",
    "            yanchor='bottom',\n",
    "            font=dict( size=14 )\n",
    "            )\n",
    "     ],\n",
    ")"
   ]
  },
  {
   "cell_type": "code",
   "execution_count": 37,
   "metadata": {},
   "outputs": [
    {
     "data": {
      "text/html": [
       "<iframe id=\"igraph\" scrolling=\"no\" style=\"border:none;\" seamless=\"seamless\" src=\"https://plot.ly/~hhwang927/4.embed\" height=\"1000px\" width=\"1000px\"></iframe>"
      ],
      "text/plain": [
       "<plotly.tools.PlotlyDisplay object>"
      ]
     },
     "execution_count": 37,
     "metadata": {},
     "output_type": "execute_result"
    }
   ],
   "source": [
    "data=[trace1, trace2]\n",
    "fig=go.Figure(data=data, layout=layout)\n",
    "\n",
    "py.iplot(fig, filename='gbc_papers_relation_2D')"
   ]
  },
  {
   "cell_type": "code",
   "execution_count": 5,
   "metadata": {},
   "outputs": [],
   "source": [
    "import random\n",
    "def shuffleData(data):\n",
    "    nodes = data['nodes']\n",
    "    for i,node in enumerate(nodes):\n",
    "        node.update({'ori_ind':i})\n",
    "    random.shuffle(nodes)\n",
    "    ori2ind = {}\n",
    "    for i,node in enumerate(nodes): \n",
    "        ori2ind.update({node['ori_ind']:i})\n",
    "    links = data['links']\n",
    "    for link in links:\n",
    "        src,dst = link['source'],link['target']\n",
    "        link['source'], link['target']=ori2ind[src],ori2ind[dst]\n",
    "    return data\n",
    "    "
   ]
  },
  {
   "cell_type": "markdown",
   "metadata": {},
   "source": [
    "# The citation relation of the Genome BC funded papers and downstream documents. (Depth<=3 vertion)"
   ]
  },
  {
   "cell_type": "code",
   "execution_count": 55,
   "metadata": {},
   "outputs": [],
   "source": [
    "import plotly.graph_objs as go\n",
    "import plotly.plotly as py\n",
    "import plotly\n",
    "\n",
    "\n",
    "user_name = 'hhwang927'\n",
    "api_key = '4gRXZGy3krwJNke5yaPD'\n",
    "plotly.tools.set_credentials_file(username=user_name, api_key=api_key)"
   ]
  },
  {
   "cell_type": "code",
   "execution_count": 56,
   "metadata": {},
   "outputs": [],
   "source": [
    "import pickle\n",
    "with open('depth2_nodes_visitedConstrain_30_graph_data', 'rb') as f:\n",
    "    data = pickle.load(f)\n",
    "data = shuffleData(data)"
   ]
  },
  {
   "cell_type": "code",
   "execution_count": 57,
   "metadata": {},
   "outputs": [],
   "source": [
    "# data['nodes'].append({'pmid':pmid_list[ind], 'title':title_list[ind], 'group':1, 'sixGroup':entity}, 'size':x)`\n",
    "import math\n",
    "labels=[]\n",
    "group=[]\n",
    "size=[]\n",
    "for node in data['nodes']:\n",
    "    if node['group']==2:\n",
    "        labels.append(f\"({node['size']})\"+node['title'])\n",
    "    else:\n",
    "        labels.append(node['title'])\n",
    "        \n",
    "    group.append({1:'rgba(0,0,255,1)', 2:'rgba(255,0,0,1)'}[node['group']])\n",
    "    size.append(math.sqrt(node['size'])*7)\n",
    "link_dis = []\n",
    "for link in data['links']:\n",
    "    link_dis.append(link['value'])"
   ]
  },
  {
   "cell_type": "code",
   "execution_count": 58,
   "metadata": {},
   "outputs": [],
   "source": [
    "import igraph as ig\n",
    "L=len(data['links'])\n",
    "Edges=[(data['links'][k]['source'], data['links'][k]['target'], data['links'][k]['value']) for k in range(L)]\n",
    "\n",
    "G=ig.Graph.TupleList(Edges)\n",
    "layt = G.layout('kk', dim=2)"
   ]
  },
  {
   "cell_type": "code",
   "execution_count": 59,
   "metadata": {},
   "outputs": [],
   "source": [
    "N = len(layt)\n",
    "Xn=[layt[k][0] for k in range(N)]# x-coordinates of nodes\n",
    "Yn=[layt[k][1] for k in range(N)]# y-coordinates\n",
    "Xe=[]\n",
    "Ye=[]\n",
    "for e in Edges:\n",
    "    Xe+=[layt[e[0]][0],layt[e[1]][0], None]# x-coordinates of edge ends\n",
    "    Ye+=[layt[e[0]][1],layt[e[1]][1], None]  "
   ]
  },
  {
   "cell_type": "code",
   "execution_count": 61,
   "metadata": {},
   "outputs": [],
   "source": [
    "trace1=go.Scatter(x=Xe,\n",
    "               y=Ye,\n",
    "               mode='lines',\n",
    "               line=dict(color='rgb(125,125,125)', width=0.2),\n",
    "               hoverinfo='none'\n",
    "               )\n",
    "import math\n",
    "\n",
    "trace2=go.Scatter(x=Xn,\n",
    "               y=Yn,\n",
    "               mode='markers',\n",
    "               marker=dict(symbol='circle',\n",
    "                             #size=list(map(lambda x:5*math.sqrt(x), size)),\n",
    "                             size=size,\n",
    "                             color=group,\n",
    "                             line=dict(color='rgb(50,50,50)', width=0.5)\n",
    "                             ),\n",
    "               text=labels,\n",
    "               hoverinfo='text'\n",
    "               )\n",
    "\n",
    "axis=dict(\n",
    "          showline=False,\n",
    "          zeroline=False,\n",
    "          showgrid=False,\n",
    "          showticklabels=False,\n",
    "          title=''\n",
    "          )\n",
    "\n",
    "layout = go.Layout(\n",
    "    title=\"Reference Relation of Genome BC funded papers\",\n",
    "    width=1000,\n",
    "    height=1000,\n",
    "    showlegend=False,\n",
    "    xaxis=dict(axis),\n",
    "    yaxis=dict(axis),\n",
    "    margin=dict( t=100 ),\n",
    "    hovermode='closest',\n",
    "    annotations=[\n",
    "           dict(\n",
    "            showarrow=False,\n",
    "            text='Red circles denote Genone BC funded papers.<br>'+\\\n",
    "               'Blue circles denote ditectly references of downstream documents.<br>'+\\\n",
    "               'The more the paper got cited, the bigger the circle will be.<br>'+\\\n",
    "               'The number between every line denotes the regerence depth between the two papers<br>'+\\\n",
    "               'The number before the title is the reference count of this paper.',\n",
    "            xref='paper',\n",
    "            yref='paper',\n",
    "            x=0,\n",
    "            y=0,\n",
    "            xanchor='left',\n",
    "            yanchor='bottom',\n",
    "            font=dict( size=14 ),\n",
    "            align='left',\n",
    "            opacity=0.5\n",
    "           ),\n",
    "    ]+[dict(\n",
    "        font=dict( size=9 ),\n",
    "        opacity=0.5,\n",
    "        text=str(e[2]+1),\n",
    "        showarrow=False,\n",
    "        xref='x',yref='y',\n",
    "        x=(layt[e[0]][0]+layt[e[1]][0])/2,\n",
    "        y=(layt[e[0]][1]+layt[e[1]][1])/2)\n",
    "       for e in Edges],\n",
    ")"
   ]
  },
  {
   "cell_type": "code",
   "execution_count": 62,
   "metadata": {},
   "outputs": [
    {
     "data": {
      "text/html": [
       "<iframe id=\"igraph\" scrolling=\"no\" style=\"border:none;\" seamless=\"seamless\" src=\"https://plot.ly/~hhwang927/6.embed\" height=\"1000px\" width=\"1000px\"></iframe>"
      ],
      "text/plain": [
       "<plotly.tools.PlotlyDisplay object>"
      ]
     },
     "execution_count": 62,
     "metadata": {},
     "output_type": "execute_result"
    }
   ],
   "source": [
    "data=[trace1, trace2]\n",
    "fig=go.Figure(data=data, layout=layout)\n",
    "\n",
    "py.iplot(fig, filename='downstream-gbcpapers-relation-depth3')"
   ]
  },
  {
   "cell_type": "markdown",
   "metadata": {},
   "source": [
    "# The top 10 most influential papers (Depth<=3 vertion) "
   ]
  },
  {
   "cell_type": "code",
   "execution_count": 47,
   "metadata": {},
   "outputs": [],
   "source": [
    "import plotly.graph_objs as go\n",
    "import plotly.plotly as py\n",
    "import plotly\n",
    "\n",
    "\n",
    "user_name = 'hhwang927'\n",
    "api_key = '4gRXZGy3krwJNke5yaPD'\n",
    "plotly.tools.set_credentials_file(username=user_name, api_key=api_key)"
   ]
  },
  {
   "cell_type": "code",
   "execution_count": 48,
   "metadata": {},
   "outputs": [],
   "source": [
    "import pickle\n",
    "with open('depth2_nodes_visitedConstrain_10_titles_sixGroup', 'rb') as f:\n",
    "    titles_sixGroup = pickle.load(f)\n",
    "# titles_sixGroup = {'titles':[],\n",
    "#                   1:[0]*len(topxgbc_pmids),\n",
    "#                   2:[0]*len(topxgbc_pmids),\n",
    "#                   3:[0]*len(topxgbc_pmids),\n",
    "#                   4:[0]*len(topxgbc_pmids),\n",
    "#                   5:[0]*len(topxgbc_pmids),\n",
    "#                   6:[0]*len(topxgbc_pmids), }"
   ]
  },
  {
   "cell_type": "code",
   "execution_count": 49,
   "metadata": {},
   "outputs": [
    {
     "data": {
      "text/html": [
       "<iframe id=\"igraph\" scrolling=\"no\" style=\"border:none;\" seamless=\"seamless\" src=\"https://plot.ly/~hhwang927/8.embed\" height=\"525px\" width=\"100%\"></iframe>"
      ],
      "text/plain": [
       "<plotly.tools.PlotlyDisplay object>"
      ]
     },
     "execution_count": 49,
     "metadata": {},
     "output_type": "execute_result"
    }
   ],
   "source": [
    "traces = []\n",
    "for i in range(1,4):\n",
    "    traces.append( go.Bar(\n",
    "        x=titles_sixGroup['titles'],\n",
    "        y=titles_sixGroup[i], \n",
    "        name=f'Depth{i}'\n",
    "    ))\n",
    "\n",
    "data = [trace for trace in traces]\n",
    "layout = go.Layout(\n",
    "    title='Top 10 most infuential Genome BC funded papers',\n",
    "    barmode='stack',\n",
    "    yaxis=dict(\n",
    "        title='Cited Count',\n",
    "    ),\n",
    "    xaxis=dict(\n",
    "        tickfont=dict(\n",
    "            size=10\n",
    "        )\n",
    "    ),\n",
    "    margin={\n",
    "        'b':300\n",
    "    }\n",
    "    \n",
    ")\n",
    "\n",
    "fig = go.Figure(data=data, layout=layout)\n",
    "py.iplot(fig, filename='stacked-bar-depth3')"
   ]
  },
  {
   "cell_type": "markdown",
   "metadata": {},
   "source": [
    "# The citation relation of the Genome BC funded papers and downstream documents. (Depth<=6 vertion)"
   ]
  },
  {
   "cell_type": "code",
   "execution_count": 45,
   "metadata": {},
   "outputs": [],
   "source": [
    "import plotly.graph_objs as go\n",
    "import plotly.plotly as py\n",
    "import plotly\n",
    "\n",
    "\n",
    "user_name = 'hhwang927'\n",
    "api_key = '4gRXZGy3krwJNke5yaPD'\n",
    "plotly.tools.set_credentials_file(username=user_name, api_key=api_key)"
   ]
  },
  {
   "cell_type": "code",
   "execution_count": 46,
   "metadata": {},
   "outputs": [],
   "source": [
    "import pickle\n",
    "with open('depth5_nodes_visitedConstrain_50_graph_data', 'rb') as f:\n",
    "    data = pickle.load(f)\n",
    "data = shuffleData(data)"
   ]
  },
  {
   "cell_type": "code",
   "execution_count": 47,
   "metadata": {},
   "outputs": [],
   "source": [
    "# data['nodes'].append({'pmid':pmid_list[ind], 'title':title_list[ind], 'group':1, 'sixGroup':entity}, 'size':x)`\n",
    "import math\n",
    "labels=[]\n",
    "group=[]\n",
    "size=[]\n",
    "for node in data['nodes']:\n",
    "    if node['group']==2:\n",
    "        labels.append(f\"({node['size']})\"+node['title'])\n",
    "    else:\n",
    "        labels.append(node['title'])\n",
    "    group.append({1:'rgba(0,0,255,1)', 2:'rgba(255,0,0,1)'}[node['group']])\n",
    "    size.append(math.sqrt(node['size'])*3)\n",
    "link_dis = []\n",
    "for link in data['links']:\n",
    "    link_dis.append(link['value'])"
   ]
  },
  {
   "cell_type": "code",
   "execution_count": 48,
   "metadata": {},
   "outputs": [],
   "source": [
    "import igraph as ig\n",
    "L=len(data['links'])\n",
    "Edges=[(data['links'][k]['source'], data['links'][k]['target'], data['links'][k]['value']) for k in range(L)]\n",
    "\n",
    "G=ig.Graph.TupleList(Edges)\n",
    "#layt = G.layout('kk', dim=2)\n",
    "layt = G.layout('kk', dim=3)"
   ]
  },
  {
   "cell_type": "code",
   "execution_count": 49,
   "metadata": {},
   "outputs": [],
   "source": [
    "N = len(layt)\n",
    "Xn=[layt[k][0] for k in range(N)]# x-coordinates of nodes\n",
    "Yn=[layt[k][1] for k in range(N)]# y-coordinates\n",
    "Zn=[layt[k][2] for k in range(N)]# y-coordinates\n",
    "Xe=[]\n",
    "Ye=[]\n",
    "Ze=[]\n",
    "for e in Edges:\n",
    "    Xe+=[layt[e[0]][0],layt[e[1]][0], None]# x-coordinates of edge ends\n",
    "    Ye+=[layt[e[0]][1],layt[e[1]][1], None]  \n",
    "    Ze+=[layt[e[0]][2],layt[e[1]][2], None]  "
   ]
  },
  {
   "cell_type": "code",
   "execution_count": 51,
   "metadata": {},
   "outputs": [],
   "source": [
    "trace1=go.Scatter3d(x=Xe,\n",
    "               y=Ye,\n",
    "               z=Ze,\n",
    "               mode='lines',\n",
    "               line=dict(color='rgb(125,125,125)', width=0.2),\n",
    "               hoverinfo='none'\n",
    "               )\n",
    "import math\n",
    "\n",
    "trace2=go.Scatter3d(x=Xn,\n",
    "               y=Yn,\n",
    "               z=Zn,\n",
    "               mode='markers',\n",
    "               marker=dict(symbol='circle',\n",
    "                             #size=list(map(lambda x:5*math.sqrt(x), size)),\n",
    "                             size=size,\n",
    "                             color=group,\n",
    "                             line=dict(color='rgb(50,50,50)', width=0.5)\n",
    "                             ),\n",
    "               text=labels,\n",
    "               hoverinfo='text'\n",
    "               )\n",
    "\n",
    "axis=dict(\n",
    "          showline=False,\n",
    "          zeroline=False,\n",
    "          showgrid=False,\n",
    "          showticklabels=False,\n",
    "          title=''\n",
    "          )\n",
    "\n",
    "layout = go.Layout(\n",
    "    title=\"Reference Relation of Genome BC funded papers\",\n",
    "    width=1000,\n",
    "    height=1000,\n",
    "    showlegend=False,\n",
    "    scene=dict(\n",
    "        xaxis=dict(axis),\n",
    "        yaxis=dict(axis),\n",
    "        zaxis=dict(axis)\n",
    "        ),\n",
    "    margin=dict( t=100 ),\n",
    "    hovermode='closest',\n",
    "    annotations=[\n",
    "           dict(\n",
    "            showarrow=False,\n",
    "            text='Red circles denote Genone BC funded papers.<br>'+\\\n",
    "               'Blue circles denote ditectly references of downstream documents.<br>'+\\\n",
    "               'The more the paper got cited, the bigger the circle will be.<br>'+\\\n",
    "               'The number between every line denotes the regerence depth between the two papers<br>'+\\\n",
    "               'The number before the title is the reference count of this paper.',\n",
    "            xref='paper',\n",
    "            yref='paper',\n",
    "            x=0,\n",
    "            y=0,\n",
    "            xanchor='left',\n",
    "            yanchor='bottom',\n",
    "            font=dict( size=14 ),\n",
    "            align='left',\n",
    "            opacity=0.5\n",
    "           ),\n",
    "    ]#+[dict(\n",
    "     #   font=dict( size=9 ),\n",
    "     #   opacity=0.5,\n",
    "     #   text=str(e[2]+1),\n",
    "     #   showarrow=False,\n",
    "     #   xref='x',yref='y',\n",
    "     #   x=(layt[e[0]][0]+layt[e[1]][0])/2,\n",
    "     #   y=(layt[e[0]][1]+layt[e[1]][1])/2)\n",
    "     #  for e in Edges],\n",
    ")"
   ]
  },
  {
   "cell_type": "code",
   "execution_count": 52,
   "metadata": {},
   "outputs": [
    {
     "data": {
      "text/html": [
       "<iframe id=\"igraph\" scrolling=\"no\" style=\"border:none;\" seamless=\"seamless\" src=\"https://plot.ly/~hhwang927/10.embed\" height=\"1000px\" width=\"1000px\"></iframe>"
      ],
      "text/plain": [
       "<plotly.tools.PlotlyDisplay object>"
      ]
     },
     "execution_count": 52,
     "metadata": {},
     "output_type": "execute_result"
    }
   ],
   "source": [
    "data=[trace1, trace2]\n",
    "fig=go.Figure(data=data, layout=layout)\n",
    "\n",
    "py.iplot(fig, filename='downstream-gbcpapers-relation-depth6')"
   ]
  },
  {
   "cell_type": "markdown",
   "metadata": {},
   "source": [
    "# The top 50 most influential papers (Depth<=6 vertion) "
   ]
  },
  {
   "cell_type": "code",
   "execution_count": 59,
   "metadata": {},
   "outputs": [],
   "source": [
    "import plotly.graph_objs as go\n",
    "import plotly.plotly as py\n",
    "import plotly\n",
    "\n",
    "\n",
    "user_name = 'hhwang927'\n",
    "api_key = '4gRXZGy3krwJNke5yaPD'\n",
    "plotly.tools.set_credentials_file(username=user_name, api_key=api_key)"
   ]
  },
  {
   "cell_type": "code",
   "execution_count": 60,
   "metadata": {},
   "outputs": [],
   "source": [
    "import pickle\n",
    "with open('depth5_nodes_visitedConstrain_50_titles_sixGroup', 'rb') as f:\n",
    "    titles_sixGroup = pickle.load(f)\n",
    "# titles_sixGroup = {'titles':[],\n",
    "#                   1:[0]*len(topxgbc_pmids),\n",
    "#                   2:[0]*len(topxgbc_pmids),\n",
    "#                   3:[0]*len(topxgbc_pmids),\n",
    "#                   4:[0]*len(topxgbc_pmids),\n",
    "#                   5:[0]*len(topxgbc_pmids),\n",
    "#                   6:[0]*len(topxgbc_pmids), }"
   ]
  },
  {
   "cell_type": "code",
   "execution_count": 61,
   "metadata": {},
   "outputs": [
    {
     "data": {
      "text/html": [
       "<iframe id=\"igraph\" scrolling=\"no\" style=\"border:none;\" seamless=\"seamless\" src=\"https://plot.ly/~hhwang927/12.embed\" height=\"525px\" width=\"100%\"></iframe>"
      ],
      "text/plain": [
       "<plotly.tools.PlotlyDisplay object>"
      ]
     },
     "execution_count": 61,
     "metadata": {},
     "output_type": "execute_result"
    }
   ],
   "source": [
    "traces = []\n",
    "for i in range(6,0,-1):\n",
    "    traces.append( go.Bar(\n",
    "        x=titles_sixGroup['titles'],\n",
    "        y=titles_sixGroup[i], \n",
    "        name=f'Depth{i}'\n",
    "    ))\n",
    "\n",
    "data = [trace for trace in traces]\n",
    "layout = go.Layout(\n",
    "    title='Top 20 most influential Genome BC funded papers',\n",
    "    barmode='stack',\n",
    "    yaxis=dict(\n",
    "        title='Cited Count',\n",
    "    ),\n",
    "    xaxis=dict(\n",
    "        tickfont=dict(\n",
    "            size=10\n",
    "        )\n",
    "    ),\n",
    ")\n",
    "\n",
    "fig = go.Figure(data=data, layout=layout)\n",
    "py.iplot(fig, filename='stacked-bar-depth6')"
   ]
  },
  {
   "cell_type": "code",
   "execution_count": 106,
   "metadata": {},
   "outputs": [
    {
     "name": "stdout",
     "output_type": "stream",
     "text": [
      "The 50 most influential Genome BC funded papers and their cited counts are:\n",
      "\n",
      "Count\tTitle\n",
      "210\tComparative genomics of the eukaryotes.\n",
      "209\tThe ENCODE (ENCyclopedia Of DNA Elements) Project.\n",
      "207\tGenome sequence of the Brown Norway rat yields insights into mammalian evolution.\n",
      "199\tA physical map of the human genome.\n",
      "199\tGeneration and initial analysis of more than 15,000 full-length human and mouse cDNA sequences.\n",
      "164\tA tiling resolution DNA microarray with complete coverage of the human genome.\n",
      "161\tA comprehensive analysis of common copy-number variations in the human genome.\n",
      "154\tThe status, quality, and expansion of the NIH full-length cDNA project: the Mammalian Gene Collection (MGC).\n",
      "152\tEvolutionary and biomedical insights from the rhesus macaque genome.\n",
      "139\tAnalyses of deep mammalian sequence alignments and constraint predictions for 1% of the human genome.\n",
      "135\tChIPSeq: Mapping of Protein-DNA Interactions.\n",
      "132\tA physical map of the mouse genome.\n",
      "131\tFunctional genomic analysis of cell division in C. elegans using RNAi of genes on chromosome III.\n",
      "130\tA set of BAC clones spanning the human genome.\n",
      "127\tChromosome-wide and promoter-specific analyses identify sites of differential DNA methylation in normal and transformed human cells.\n",
      "126\tGenome-wide profiles of STAT1 DNA association using chromatin immunoprecipitation and massively parallel sequencing.\n",
      "120\tSystematic sequencing of cDNA clones using the transposon Tn5.\n",
      "117\tcisRED: a database system for genome-scale computational discovery of regulatory elements.\n",
      "117\tOligonucleotide microarray analysis of genomic imbalance in children with mental retardation.\n",
      "116\tIntegrating copy number polymorphisms into array CGH analysis using a robust HMM.\n",
      "115\tSeeGH--a software tool for visualization of whole genome array comparative genomic hybridization data.\n",
      "115\tResolving the resolution of array CGH.\n",
      "114\tAn efficient strategy for large-scale high-throughput transposon-mediated sequencing of cDNA clones.\n",
      "112\tMapping segmental and sequence variations among laboratory mice using BAC array CGH.\n",
      "111\tHigh resolution analysis of non-small cell lung cancer cell lines by whole genome tiling path array CGH.\n",
      "110\tComprehensive copy number profiles of breast cancer cell model genomes.\n",
      "109\tGenome of the marsupial Monodelphis domestica reveals innovation in non-coding sequences.\n",
      "108\tIdentification by full-coverage array CGH of human DNA copy number increases relative to chimpanzee and gorilla.\n",
      "108\tProfiling the HeLa S3 transcriptome using randomly primed cDNA and massively parallel short-read sequencing.\n",
      "107\tA stepwise framework for the normalization of array CGH data.\n",
      "107\tORegAnno: an open access database and curation system for literature-derived promoters, transcription factor binding sites and regulatory variation.\n",
      "103\tSequence biases in large scale gene expression profiling data.\n",
      "101\tAssessment and integration of publicly available SAGE, cDNA microarray, and oligonucleotide microarray expression data for global coexpression analyses.\n",
      "99\tArray CGH technologies and their applications to cancer genomes.\n",
      "95\tA global profile of germline gene expression in C. elegans.\n",
      "95\tSockeye: a 3D environment for comparative genomics.\n",
      "95\tA mammalian organelle map by protein correlation profiling.\n",
      "93\tSystematic recovery and analysis of full-ORF human cDNA clones.\n",
      "93\tPersonalized copy number and segmental duplication maps using next-generation sequencing.\n",
      "92\tThe new paradigm of flow cell sequencing.\n",
      "90\tFull-genome RNAi profiling of early embryogenesis in Caenorhabditis elegans.\n",
      "89\tCerebral: a Cytoscape plugin for layout of and interaction with biological networks using subcellular localization annotation.\n",
      "85\tPurification and unique properties of mammary epithelial stem cells.\n",
      "85\tWhen good drugs go bad.\n",
      "85\tORegAnno: an open-access community-driven resource for regulatory annotation.\n",
      "85\tGlobal analysis of in vivo Foxa2-binding sites in mouse adult liver using massively parallel sequencing.\n",
      "85\tABySS: a parallel assembler for short read sequence data.\n",
      "84\tSlider--maximum use of probability information for alignment of short sequence reads and SNP detection.\n",
      "83\tFunctional genomics of the cilium, a sensory organelle.\n",
      "83\tGenome-wide relationship between histone H3 lysine 4 mono- and tri-methylation and transcription factor binding.\n"
     ]
    }
   ],
   "source": [
    "print('The 50 most influential Genome BC funded papers and their cited counts are:\\n')\n",
    "print('Count\\tTitle')\n",
    "\n",
    "for ind, title in enumerate(titles_sixGroup['titles']):\n",
    "    cnt = sum([titles_sixGroup[i][ind] for i in range(1,7)])\n",
    "    print( f'{cnt}\\t{title}')\n",
    "    if ind >=100: break"
   ]
  }
 ],
 "metadata": {
  "kernelspec": {
   "display_name": "Python 3",
   "language": "python",
   "name": "python3"
  },
  "language_info": {
   "codemirror_mode": {
    "name": "ipython",
    "version": 3
   },
   "file_extension": ".py",
   "mimetype": "text/x-python",
   "name": "python",
   "nbconvert_exporter": "python",
   "pygments_lexer": "ipython3",
   "version": "3.7.1"
  },
  "toc": {
   "base_numbering": 1,
   "nav_menu": {},
   "number_sections": true,
   "sideBar": true,
   "skip_h1_title": false,
   "title_cell": "Table of Contents",
   "title_sidebar": "Contents",
   "toc_cell": false,
   "toc_position": {},
   "toc_section_display": true,
   "toc_window_display": false
  }
 },
 "nbformat": 4,
 "nbformat_minor": 2
}
