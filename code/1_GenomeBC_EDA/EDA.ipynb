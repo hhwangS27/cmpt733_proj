{
 "cells": [
  {
   "cell_type": "markdown",
   "metadata": {},
   "source": [
    "# explore PMC-ids.csv"
   ]
  },
  {
   "cell_type": "code",
   "execution_count": 5,
   "metadata": {},
   "outputs": [],
   "source": [
    "import pandas as pd\n",
    "import numpy as np \n",
    "pmcids = pd.read_csv(\"PMC-ids.csv\", dtype={'PMID':'object'} )\n",
    "pmcids = pmcids[['ISSN', 'DOI', 'PMCID', 'PMID']]\n",
    "pmcids.to_csv('4columnsPMC-ids.csv')\n",
    "#pmcids = pd.read_csv(\"4columnsPMC-ids.csv\", dtype={'PMID':'object'} )"
   ]
  },
  {
   "cell_type": "code",
   "execution_count": 2,
   "metadata": {},
   "outputs": [
    {
     "data": {
      "text/html": [
       "<div>\n",
       "<style scoped>\n",
       "    .dataframe tbody tr th:only-of-type {\n",
       "        vertical-align: middle;\n",
       "    }\n",
       "\n",
       "    .dataframe tbody tr th {\n",
       "        vertical-align: top;\n",
       "    }\n",
       "\n",
       "    .dataframe thead th {\n",
       "        text-align: right;\n",
       "    }\n",
       "</style>\n",
       "<table border=\"1\" class=\"dataframe\">\n",
       "  <thead>\n",
       "    <tr style=\"text-align: right;\">\n",
       "      <th></th>\n",
       "      <th>ISSN</th>\n",
       "      <th>DOI</th>\n",
       "      <th>PMCID</th>\n",
       "      <th>PMID</th>\n",
       "    </tr>\n",
       "  </thead>\n",
       "  <tbody>\n",
       "    <tr>\n",
       "      <th>0</th>\n",
       "      <td>1465-5411</td>\n",
       "      <td>NaN</td>\n",
       "      <td>PMC13900</td>\n",
       "      <td>11250746</td>\n",
       "    </tr>\n",
       "    <tr>\n",
       "      <th>1</th>\n",
       "      <td>1465-5411</td>\n",
       "      <td>NaN</td>\n",
       "      <td>PMC13901</td>\n",
       "      <td>11250747</td>\n",
       "    </tr>\n",
       "    <tr>\n",
       "      <th>2</th>\n",
       "      <td>1465-5411</td>\n",
       "      <td>NaN</td>\n",
       "      <td>PMC13902</td>\n",
       "      <td>11250748</td>\n",
       "    </tr>\n",
       "    <tr>\n",
       "      <th>3</th>\n",
       "      <td>1465-5411</td>\n",
       "      <td>10.1186/bcr29</td>\n",
       "      <td>PMC13911</td>\n",
       "      <td>11056684</td>\n",
       "    </tr>\n",
       "    <tr>\n",
       "      <th>4</th>\n",
       "      <td>1465-5411</td>\n",
       "      <td>NaN</td>\n",
       "      <td>PMC13912</td>\n",
       "      <td>11400682</td>\n",
       "    </tr>\n",
       "  </tbody>\n",
       "</table>\n",
       "</div>"
      ],
      "text/plain": [
       "        ISSN            DOI     PMCID      PMID\n",
       "0  1465-5411            NaN  PMC13900  11250746\n",
       "1  1465-5411            NaN  PMC13901  11250747\n",
       "2  1465-5411            NaN  PMC13902  11250748\n",
       "3  1465-5411  10.1186/bcr29  PMC13911  11056684\n",
       "4  1465-5411            NaN  PMC13912  11400682"
      ]
     },
     "execution_count": 2,
     "metadata": {},
     "output_type": "execute_result"
    }
   ],
   "source": [
    "pmcids.head()"
   ]
  },
  {
   "cell_type": "code",
   "execution_count": 3,
   "metadata": {},
   "outputs": [
    {
     "data": {
      "text/plain": [
       "Unnamed: 0    5531241\n",
       "ISSN          4169867\n",
       "DOI           3783005\n",
       "PMCID         5531239\n",
       "PMID          4937389\n",
       "dtype: int64"
      ]
     },
     "execution_count": 3,
     "metadata": {},
     "output_type": "execute_result"
    }
   ],
   "source": [
    "pmcids.count()"
   ]
  },
  {
   "cell_type": "code",
   "execution_count": 4,
   "metadata": {},
   "outputs": [
    {
     "data": {
      "text/plain": [
       "Unnamed: 0      int64\n",
       "ISSN           object\n",
       "DOI            object\n",
       "PMCID          object\n",
       "PMID          float64\n",
       "dtype: object"
      ]
     },
     "execution_count": 4,
     "metadata": {},
     "output_type": "execute_result"
    }
   ],
   "source": [
    "pmcids.dtypes"
   ]
  },
  {
   "cell_type": "code",
   "execution_count": 4,
   "metadata": {},
   "outputs": [
    {
     "data": {
      "text/html": [
       "<div>\n",
       "<style scoped>\n",
       "    .dataframe tbody tr th:only-of-type {\n",
       "        vertical-align: middle;\n",
       "    }\n",
       "\n",
       "    .dataframe tbody tr th {\n",
       "        vertical-align: top;\n",
       "    }\n",
       "\n",
       "    .dataframe thead th {\n",
       "        text-align: right;\n",
       "    }\n",
       "</style>\n",
       "<table border=\"1\" class=\"dataframe\">\n",
       "  <thead>\n",
       "    <tr style=\"text-align: right;\">\n",
       "      <th></th>\n",
       "      <th>ISSN</th>\n",
       "      <th>DOI</th>\n",
       "      <th>PMCID</th>\n",
       "      <th>PMID</th>\n",
       "    </tr>\n",
       "  </thead>\n",
       "  <tbody>\n",
       "    <tr>\n",
       "      <th>5299894</th>\n",
       "      <td>1865-1674</td>\n",
       "      <td>NaN</td>\n",
       "      <td>NaN</td>\n",
       "      <td>NaN</td>\n",
       "    </tr>\n",
       "    <tr>\n",
       "      <th>5299895</th>\n",
       "      <td>199</td>\n",
       "      <td>NaN</td>\n",
       "      <td>NaN</td>\n",
       "      <td>NaN</td>\n",
       "    </tr>\n",
       "  </tbody>\n",
       "</table>\n",
       "</div>"
      ],
      "text/plain": [
       "              ISSN  DOI PMCID PMID\n",
       "5299894  1865-1674  NaN   NaN  NaN\n",
       "5299895        199  NaN   NaN  NaN"
      ]
     },
     "execution_count": 4,
     "metadata": {},
     "output_type": "execute_result"
    }
   ],
   "source": [
    "#only two items have no PMCID\n",
    "pmcids[pmcids.PMCID.isna()]"
   ]
  },
  {
   "cell_type": "markdown",
   "metadata": {},
   "source": [
    "# fullfill gbc_pmid.csv to gbc_pmid_full.csv\n",
    "It will have extra columns: issn, isbn, pmcid and will fullfill doi column"
   ]
  },
  {
   "cell_type": "code",
   "execution_count": 31,
   "metadata": {},
   "outputs": [],
   "source": [
    "#gbc = pd.read_excel(\"Genome BC publication export Feb 2019.xlsx\",\n",
    "#                    dtype={'Publication Year':'object', 'PMID':'object',})\n",
    "#gbc.to_csv('gbc.csv')\n",
    "\n",
    "gbc = pd.read_csv('gbc.csv',\n",
    "                    dtype={'Publication Year':'object', 'PMID':'object',})\n",
    "gbc_pmid = gbc[~gbc.PMID.isna()]\n",
    "gbc_pmid.to_csv('gbc_pmid.csv')"
   ]
  },
  {
   "cell_type": "code",
   "execution_count": 2,
   "metadata": {},
   "outputs": [],
   "source": [
    "gbc_pmid = pd.read_csv(\"gbc_pmid.csv\",\n",
    "                       dtype={'Publication Year':'object', 'PMID':'object', 'DOI':'object', 'ISBN':'object'})"
   ]
  },
  {
   "cell_type": "code",
   "execution_count": 42,
   "metadata": {},
   "outputs": [
    {
     "data": {
      "text/html": [
       "<div>\n",
       "<style scoped>\n",
       "    .dataframe tbody tr th:only-of-type {\n",
       "        vertical-align: middle;\n",
       "    }\n",
       "\n",
       "    .dataframe tbody tr th {\n",
       "        vertical-align: top;\n",
       "    }\n",
       "\n",
       "    .dataframe thead th {\n",
       "        text-align: right;\n",
       "    }\n",
       "</style>\n",
       "<table border=\"1\" class=\"dataframe\">\n",
       "  <thead>\n",
       "    <tr style=\"text-align: right;\">\n",
       "      <th></th>\n",
       "      <th>Unnamed: 0</th>\n",
       "      <th>Unnamed: 0.1</th>\n",
       "      <th>Publication Category</th>\n",
       "      <th>Publication Year</th>\n",
       "      <th>PMID</th>\n",
       "      <th>DOI</th>\n",
       "      <th>Authors</th>\n",
       "      <th>Title</th>\n",
       "      <th>Journal</th>\n",
       "      <th>Short Citation</th>\n",
       "    </tr>\n",
       "  </thead>\n",
       "  <tbody>\n",
       "    <tr>\n",
       "      <th>0</th>\n",
       "      <td>0</td>\n",
       "      <td>0</td>\n",
       "      <td>Journal Article</td>\n",
       "      <td>2000</td>\n",
       "      <td>10731134</td>\n",
       "      <td>NaN</td>\n",
       "      <td>Rubin GM; Yandell MD; Wortman JR; Gabor Miklos...</td>\n",
       "      <td>Comparative genomics of the eukaryotes.</td>\n",
       "      <td>Molecular &amp; General Genetics</td>\n",
       "      <td>Science. 2000 Mar 24;287(5461):2204-15.</td>\n",
       "    </tr>\n",
       "    <tr>\n",
       "      <th>1</th>\n",
       "      <td>1</td>\n",
       "      <td>1</td>\n",
       "      <td>Journal Article</td>\n",
       "      <td>2000</td>\n",
       "      <td>10778742</td>\n",
       "      <td>NaN</td>\n",
       "      <td>Johnsen RC; Jones SJ; Rose AM;</td>\n",
       "      <td>Mutational accessibility of essential genes on...</td>\n",
       "      <td>Molecular &amp; General Genetics</td>\n",
       "      <td>Mol Gen Genet. 2000 Mar;263(2):239-52.</td>\n",
       "    </tr>\n",
       "    <tr>\n",
       "      <th>2</th>\n",
       "      <td>2</td>\n",
       "      <td>2</td>\n",
       "      <td>Journal Article</td>\n",
       "      <td>2000</td>\n",
       "      <td>11030340</td>\n",
       "      <td>NaN</td>\n",
       "      <td>Reinke V; Smith HE; Nance J; Wang J; Van Doren...</td>\n",
       "      <td>A global profile of germline gene expression i...</td>\n",
       "      <td>Molecular Cell</td>\n",
       "      <td>Mol Cell. 2000 Sep;6(3):605-16.</td>\n",
       "    </tr>\n",
       "    <tr>\n",
       "      <th>3</th>\n",
       "      <td>3</td>\n",
       "      <td>3</td>\n",
       "      <td>Journal Article</td>\n",
       "      <td>2000</td>\n",
       "      <td>11070064</td>\n",
       "      <td>NaN</td>\n",
       "      <td>de Koning AP; Brinkman FS; Jones SJ; Keeling PJ;</td>\n",
       "      <td>Lateral gene transfer and metabolic adaptation...</td>\n",
       "      <td>Molecular Biology and Evolution</td>\n",
       "      <td>Mol Biol Evol. 2000 Nov;17(11):1769-73.</td>\n",
       "    </tr>\n",
       "    <tr>\n",
       "      <th>4</th>\n",
       "      <td>4</td>\n",
       "      <td>4</td>\n",
       "      <td>Journal Article</td>\n",
       "      <td>2000</td>\n",
       "      <td>11099034</td>\n",
       "      <td>NaN</td>\n",
       "      <td>Gonczy P; Echeverri C; Oegema K; Coulson A; Jo...</td>\n",
       "      <td>Functional genomic analysis of cell division i...</td>\n",
       "      <td>Nature</td>\n",
       "      <td>Nature. 2000 Nov 16;408(6810):331-6.</td>\n",
       "    </tr>\n",
       "  </tbody>\n",
       "</table>\n",
       "</div>"
      ],
      "text/plain": [
       "   Unnamed: 0  Unnamed: 0.1 Publication Category Publication Year      PMID  \\\n",
       "0           0             0      Journal Article             2000  10731134   \n",
       "1           1             1      Journal Article             2000  10778742   \n",
       "2           2             2      Journal Article             2000  11030340   \n",
       "3           3             3      Journal Article             2000  11070064   \n",
       "4           4             4      Journal Article             2000  11099034   \n",
       "\n",
       "   DOI                                            Authors  \\\n",
       "0  NaN  Rubin GM; Yandell MD; Wortman JR; Gabor Miklos...   \n",
       "1  NaN                     Johnsen RC; Jones SJ; Rose AM;   \n",
       "2  NaN  Reinke V; Smith HE; Nance J; Wang J; Van Doren...   \n",
       "3  NaN   de Koning AP; Brinkman FS; Jones SJ; Keeling PJ;   \n",
       "4  NaN  Gonczy P; Echeverri C; Oegema K; Coulson A; Jo...   \n",
       "\n",
       "                                               Title  \\\n",
       "0            Comparative genomics of the eukaryotes.   \n",
       "1  Mutational accessibility of essential genes on...   \n",
       "2  A global profile of germline gene expression i...   \n",
       "3  Lateral gene transfer and metabolic adaptation...   \n",
       "4  Functional genomic analysis of cell division i...   \n",
       "\n",
       "                           Journal                           Short Citation  \n",
       "0     Molecular & General Genetics  Science. 2000 Mar 24;287(5461):2204-15.  \n",
       "1     Molecular & General Genetics   Mol Gen Genet. 2000 Mar;263(2):239-52.  \n",
       "2                   Molecular Cell          Mol Cell. 2000 Sep;6(3):605-16.  \n",
       "3  Molecular Biology and Evolution  Mol Biol Evol. 2000 Nov;17(11):1769-73.  \n",
       "4                           Nature     Nature. 2000 Nov 16;408(6810):331-6.  "
      ]
     },
     "execution_count": 42,
     "metadata": {},
     "output_type": "execute_result"
    }
   ],
   "source": [
    "#gbc_pmid.head()"
   ]
  },
  {
   "cell_type": "code",
   "execution_count": 37,
   "metadata": {},
   "outputs": [
    {
     "name": "stdout",
     "output_type": "stream",
     "text": [
      "Unnamed: 0               int64\n",
      "Unnamed: 0.1             int64\n",
      "Publication Category    object\n",
      "Publication Year        object\n",
      "PMID                    object\n",
      "DOI                     object\n",
      "Authors                 object\n",
      "Title                   object\n",
      "Journal                 object\n",
      "Short Citation          object\n",
      "dtype: object \n",
      "\n",
      " ISSN     object\n",
      "DOI      object\n",
      "PMCID    object\n",
      "PMID     object\n",
      "dtype: object\n"
     ]
    }
   ],
   "source": [
    "#print(gbc_pmid.dtypes, '\\n\\n', pmcids.dtypes)"
   ]
  },
  {
   "cell_type": "code",
   "execution_count": 43,
   "metadata": {},
   "outputs": [
    {
     "data": {
      "text/plain": [
       "Unnamed: 0              2578\n",
       "Unnamed: 0.1            2578\n",
       "Publication Category    2578\n",
       "Publication Year        2572\n",
       "PMID                    2578\n",
       "DOI                        0\n",
       "Authors                 2576\n",
       "Title                   2576\n",
       "Journal                 2195\n",
       "Short Citation          2572\n",
       "dtype: int64"
      ]
     },
     "execution_count": 43,
     "metadata": {},
     "output_type": "execute_result"
    }
   ],
   "source": [
    "#gbc_pmid.count()"
   ]
  },
  {
   "cell_type": "code",
   "execution_count": 3,
   "metadata": {},
   "outputs": [],
   "source": [
    "## add ISBN column\n",
    "#gbc_pmid['ISBN']=gbc_pmid['DOI']\n",
    "## get DOI,ISSN,PMCID based on PMID=PMID\n",
    "#gbc_pmid = pd.merge(gbc_pmid, pmcids, how='left', on='PMID')"
   ]
  },
  {
   "cell_type": "code",
   "execution_count": 45,
   "metadata": {},
   "outputs": [
    {
     "data": {
      "text/html": [
       "<div>\n",
       "<style scoped>\n",
       "    .dataframe tbody tr th:only-of-type {\n",
       "        vertical-align: middle;\n",
       "    }\n",
       "\n",
       "    .dataframe tbody tr th {\n",
       "        vertical-align: top;\n",
       "    }\n",
       "\n",
       "    .dataframe thead th {\n",
       "        text-align: right;\n",
       "    }\n",
       "</style>\n",
       "<table border=\"1\" class=\"dataframe\">\n",
       "  <thead>\n",
       "    <tr style=\"text-align: right;\">\n",
       "      <th></th>\n",
       "      <th>Unnamed: 0</th>\n",
       "      <th>Unnamed: 0.1</th>\n",
       "      <th>Publication Category</th>\n",
       "      <th>Publication Year</th>\n",
       "      <th>PMID</th>\n",
       "      <th>DOI_x</th>\n",
       "      <th>Authors</th>\n",
       "      <th>Title</th>\n",
       "      <th>Journal</th>\n",
       "      <th>Short Citation</th>\n",
       "      <th>ISBN</th>\n",
       "      <th>ISSN</th>\n",
       "      <th>DOI_y</th>\n",
       "      <th>PMCID</th>\n",
       "    </tr>\n",
       "  </thead>\n",
       "  <tbody>\n",
       "    <tr>\n",
       "      <th>0</th>\n",
       "      <td>0</td>\n",
       "      <td>0</td>\n",
       "      <td>Journal Article</td>\n",
       "      <td>2000</td>\n",
       "      <td>10731134</td>\n",
       "      <td>NaN</td>\n",
       "      <td>Rubin GM; Yandell MD; Wortman JR; Gabor Miklos...</td>\n",
       "      <td>Comparative genomics of the eukaryotes.</td>\n",
       "      <td>Molecular &amp; General Genetics</td>\n",
       "      <td>Science. 2000 Mar 24;287(5461):2204-15.</td>\n",
       "      <td>NaN</td>\n",
       "      <td>0036-8075</td>\n",
       "      <td>NaN</td>\n",
       "      <td>PMC2754258</td>\n",
       "    </tr>\n",
       "    <tr>\n",
       "      <th>1</th>\n",
       "      <td>1</td>\n",
       "      <td>1</td>\n",
       "      <td>Journal Article</td>\n",
       "      <td>2000</td>\n",
       "      <td>10778742</td>\n",
       "      <td>NaN</td>\n",
       "      <td>Johnsen RC; Jones SJ; Rose AM;</td>\n",
       "      <td>Mutational accessibility of essential genes on...</td>\n",
       "      <td>Molecular &amp; General Genetics</td>\n",
       "      <td>Mol Gen Genet. 2000 Mar;263(2):239-52.</td>\n",
       "      <td>NaN</td>\n",
       "      <td>NaN</td>\n",
       "      <td>NaN</td>\n",
       "      <td>NaN</td>\n",
       "    </tr>\n",
       "    <tr>\n",
       "      <th>2</th>\n",
       "      <td>2</td>\n",
       "      <td>2</td>\n",
       "      <td>Journal Article</td>\n",
       "      <td>2000</td>\n",
       "      <td>11030340</td>\n",
       "      <td>NaN</td>\n",
       "      <td>Reinke V; Smith HE; Nance J; Wang J; Van Doren...</td>\n",
       "      <td>A global profile of germline gene expression i...</td>\n",
       "      <td>Molecular Cell</td>\n",
       "      <td>Mol Cell. 2000 Sep;6(3):605-16.</td>\n",
       "      <td>NaN</td>\n",
       "      <td>NaN</td>\n",
       "      <td>NaN</td>\n",
       "      <td>NaN</td>\n",
       "    </tr>\n",
       "    <tr>\n",
       "      <th>3</th>\n",
       "      <td>3</td>\n",
       "      <td>3</td>\n",
       "      <td>Journal Article</td>\n",
       "      <td>2000</td>\n",
       "      <td>11070064</td>\n",
       "      <td>NaN</td>\n",
       "      <td>de Koning AP; Brinkman FS; Jones SJ; Keeling PJ;</td>\n",
       "      <td>Lateral gene transfer and metabolic adaptation...</td>\n",
       "      <td>Molecular Biology and Evolution</td>\n",
       "      <td>Mol Biol Evol. 2000 Nov;17(11):1769-73.</td>\n",
       "      <td>NaN</td>\n",
       "      <td>NaN</td>\n",
       "      <td>NaN</td>\n",
       "      <td>NaN</td>\n",
       "    </tr>\n",
       "    <tr>\n",
       "      <th>4</th>\n",
       "      <td>4</td>\n",
       "      <td>4</td>\n",
       "      <td>Journal Article</td>\n",
       "      <td>2000</td>\n",
       "      <td>11099034</td>\n",
       "      <td>NaN</td>\n",
       "      <td>Gonczy P; Echeverri C; Oegema K; Coulson A; Jo...</td>\n",
       "      <td>Functional genomic analysis of cell division i...</td>\n",
       "      <td>Nature</td>\n",
       "      <td>Nature. 2000 Nov 16;408(6810):331-6.</td>\n",
       "      <td>NaN</td>\n",
       "      <td>NaN</td>\n",
       "      <td>NaN</td>\n",
       "      <td>NaN</td>\n",
       "    </tr>\n",
       "  </tbody>\n",
       "</table>\n",
       "</div>"
      ],
      "text/plain": [
       "   Unnamed: 0  Unnamed: 0.1 Publication Category Publication Year      PMID  \\\n",
       "0           0             0      Journal Article             2000  10731134   \n",
       "1           1             1      Journal Article             2000  10778742   \n",
       "2           2             2      Journal Article             2000  11030340   \n",
       "3           3             3      Journal Article             2000  11070064   \n",
       "4           4             4      Journal Article             2000  11099034   \n",
       "\n",
       "  DOI_x                                            Authors  \\\n",
       "0   NaN  Rubin GM; Yandell MD; Wortman JR; Gabor Miklos...   \n",
       "1   NaN                     Johnsen RC; Jones SJ; Rose AM;   \n",
       "2   NaN  Reinke V; Smith HE; Nance J; Wang J; Van Doren...   \n",
       "3   NaN   de Koning AP; Brinkman FS; Jones SJ; Keeling PJ;   \n",
       "4   NaN  Gonczy P; Echeverri C; Oegema K; Coulson A; Jo...   \n",
       "\n",
       "                                               Title  \\\n",
       "0            Comparative genomics of the eukaryotes.   \n",
       "1  Mutational accessibility of essential genes on...   \n",
       "2  A global profile of germline gene expression i...   \n",
       "3  Lateral gene transfer and metabolic adaptation...   \n",
       "4  Functional genomic analysis of cell division i...   \n",
       "\n",
       "                           Journal                           Short Citation  \\\n",
       "0     Molecular & General Genetics  Science. 2000 Mar 24;287(5461):2204-15.   \n",
       "1     Molecular & General Genetics   Mol Gen Genet. 2000 Mar;263(2):239-52.   \n",
       "2                   Molecular Cell          Mol Cell. 2000 Sep;6(3):605-16.   \n",
       "3  Molecular Biology and Evolution  Mol Biol Evol. 2000 Nov;17(11):1769-73.   \n",
       "4                           Nature     Nature. 2000 Nov 16;408(6810):331-6.   \n",
       "\n",
       "  ISBN       ISSN DOI_y       PMCID  \n",
       "0  NaN  0036-8075   NaN  PMC2754258  \n",
       "1  NaN        NaN   NaN         NaN  \n",
       "2  NaN        NaN   NaN         NaN  \n",
       "3  NaN        NaN   NaN         NaN  \n",
       "4  NaN        NaN   NaN         NaN  "
      ]
     },
     "execution_count": 45,
     "metadata": {},
     "output_type": "execute_result"
    }
   ],
   "source": [
    "#gbc_pmid.head()"
   ]
  },
  {
   "cell_type": "code",
   "execution_count": 4,
   "metadata": {},
   "outputs": [
    {
     "data": {
      "text/plain": [
       "Unnamed: 0_x            2578\n",
       "Unnamed: 0.1            2578\n",
       "Publication Category    2578\n",
       "Publication Year        2572\n",
       "PMID                    2578\n",
       "DOI_x                      0\n",
       "Authors                 2576\n",
       "Title                   2576\n",
       "Journal                 2195\n",
       "Short Citation          2572\n",
       "Unnamed: 0_y            1261\n",
       "ISSN                     753\n",
       "DOI_y                   1237\n",
       "PMCID                   1261\n",
       "dtype: int64"
      ]
     },
     "execution_count": 4,
     "metadata": {},
     "output_type": "execute_result"
    }
   ],
   "source": [
    "#gbc_pmid.count()"
   ]
  },
  {
   "cell_type": "code",
   "execution_count": 47,
   "metadata": {},
   "outputs": [
    {
     "data": {
      "text/plain": [
       "Unnamed: 0              2578\n",
       "Unnamed: 0.1            2578\n",
       "Publication Category    2578\n",
       "Publication Year        2572\n",
       "PMID                    2578\n",
       "Authors                 2576\n",
       "Title                   2576\n",
       "Journal                 2195\n",
       "Short Citation          2572\n",
       "ISBN                       0\n",
       "ISSN                     753\n",
       "PMCID                   1261\n",
       "DOI                     1237\n",
       "dtype: int64"
      ]
     },
     "execution_count": 47,
     "metadata": {},
     "output_type": "execute_result"
    }
   ],
   "source": [
    "#gbc_pmid['DOI']=gbc_pmid['DOI_y']\n",
    "#gbc_pmid.drop(['DOI_x','DOI_y'], axis=1, inplace=True)\n",
    "#gbc_pmid.count()"
   ]
  },
  {
   "cell_type": "code",
   "execution_count": 48,
   "metadata": {},
   "outputs": [],
   "source": [
    "#gbc_pmid.to_csv('gbc_pmid_full.csv')"
   ]
  },
  {
   "cell_type": "markdown",
   "metadata": {},
   "source": [
    "# fullfill gbc to a table with issn,isbn,pmid,doi columns and fullfill them"
   ]
  },
  {
   "cell_type": "code",
   "execution_count": 67,
   "metadata": {},
   "outputs": [],
   "source": [
    "gbc_dii = pd.read_csv(\"gbc_doi_issn_ibsn.csv\", dtype={'PMID':'object','Publication Year':'object',})\n",
    "gbc_dii.drop(['Unnamed: 0'],axis=1,inplace=True)"
   ]
  },
  {
   "cell_type": "code",
   "execution_count": 68,
   "metadata": {},
   "outputs": [
    {
     "data": {
      "text/plain": [
       "Publication Category    object\n",
       "Publication Year        object\n",
       "PMID                    object\n",
       "DOI                     object\n",
       "Authors                 object\n",
       "Title                   object\n",
       "Journal                 object\n",
       "Short Citation          object\n",
       "dtype: object"
      ]
     },
     "execution_count": 68,
     "metadata": {},
     "output_type": "execute_result"
    }
   ],
   "source": [
    "gbc_dii.dtypes"
   ]
  },
  {
   "cell_type": "code",
   "execution_count": 69,
   "metadata": {},
   "outputs": [
    {
     "data": {
      "text/plain": [
       "Publication Category    467\n",
       "Publication Year        467\n",
       "PMID                      0\n",
       "DOI                     467\n",
       "Authors                 464\n",
       "Title                   465\n",
       "Journal                 332\n",
       "Short Citation          299\n",
       "dtype: int64"
      ]
     },
     "execution_count": 69,
     "metadata": {},
     "output_type": "execute_result"
    }
   ],
   "source": [
    "gbc_dii.count()"
   ]
  },
  {
   "cell_type": "markdown",
   "metadata": {},
   "source": [
    "gbc_dii consists of 11 ISSN, 32 ISBN and 425 DOI, store them in the follwing variables."
   ]
  },
  {
   "cell_type": "code",
   "execution_count": 70,
   "metadata": {},
   "outputs": [],
   "source": [
    "gbc_dii['ISSN']=gbc_dii[gbc_dii.DOI.str.startswith('ISSN')].DOI\n",
    "gbc_dii['ISBN']=gbc_dii[gbc_dii.DOI.str.startswith('ISBN')].DOI\n",
    "gbc_dii['DOI']=gbc_dii[~gbc_dii.DOI.str.startswith('ISSN')&~gbc_dii.DOI.str.startswith('ISBN')].DOI"
   ]
  },
  {
   "cell_type": "code",
   "execution_count": 71,
   "metadata": {},
   "outputs": [],
   "source": [
    "pat = r\"[^\\d]*(?P<num>\\d[-\\d]*)[^\\d]*\"\n",
    "def repl(m):\n",
    "    return m.group('num')\n",
    "gbc_dii.ISSN = gbc_dii.ISSN.str.replace(pat, repl)\n",
    "gbc_dii.ISBN = gbc_dii.ISBN.str.replace(pat, repl)"
   ]
  },
  {
   "cell_type": "code",
   "execution_count": 72,
   "metadata": {},
   "outputs": [
    {
     "data": {
      "text/plain": [
       "Publication Category    467\n",
       "Publication Year        467\n",
       "PMID                      0\n",
       "DOI                     424\n",
       "Authors                 464\n",
       "Title                   465\n",
       "Journal                 332\n",
       "Short Citation          299\n",
       "ISSN                     11\n",
       "ISBN                     32\n",
       "dtype: int64"
      ]
     },
     "execution_count": 72,
     "metadata": {},
     "output_type": "execute_result"
    }
   ],
   "source": [
    "gbc_dii.count()"
   ]
  },
  {
   "cell_type": "code",
   "execution_count": 73,
   "metadata": {},
   "outputs": [],
   "source": [
    "gbc_dii_doi = pd.merge( gbc_dii[~gbc_dii.DOI.isna()][['PMID','DOI','ISSN','ISBN']], pmcids, how='left', on='DOI')\n",
    "gbc_dii_issn = pd.merge( gbc_dii[~gbc_dii.ISSN.isna()][['PMID','DOI','ISSN','ISBN']], pmcids, how='left', on='ISSN')\n",
    "#gbc_dii_issn has no extended info, no need to care"
   ]
  },
  {
   "cell_type": "code",
   "execution_count": 74,
   "metadata": {},
   "outputs": [
    {
     "data": {
      "text/plain": [
       "PMID_x          0\n",
       "DOI           424\n",
       "ISSN_x          0\n",
       "ISBN            0\n",
       "Unnamed: 0     41\n",
       "ISSN_y         16\n",
       "PMCID          41\n",
       "PMID_y         40\n",
       "dtype: int64"
      ]
     },
     "execution_count": 74,
     "metadata": {},
     "output_type": "execute_result"
    }
   ],
   "source": [
    "gbc_dii_doi.count()"
   ]
  },
  {
   "cell_type": "code",
   "execution_count": 75,
   "metadata": {},
   "outputs": [],
   "source": [
    "gbc_dii_doi['PMID']=gbc_dii_doi.PMID_x.fillna(gbc_dii_doi.PMID_y)\n",
    "gbc_dii_doi['ISSN']=gbc_dii_doi.ISSN_x.fillna(gbc_dii_doi.ISSN_y)\n",
    "gbc_dii_doi.drop(['PMID_x','PMID_y','ISSN_x','ISSN_y','Unnamed: 0'], axis=1, inplace=True)"
   ]
  },
  {
   "cell_type": "code",
   "execution_count": 76,
   "metadata": {},
   "outputs": [
    {
     "data": {
      "text/plain": [
       "DOI      424\n",
       "ISBN       0\n",
       "PMCID     41\n",
       "PMID      40\n",
       "ISSN      16\n",
       "dtype: int64"
      ]
     },
     "execution_count": 76,
     "metadata": {},
     "output_type": "execute_result"
    }
   ],
   "source": [
    "gbc_dii_doi.count()"
   ]
  },
  {
   "cell_type": "code",
   "execution_count": 77,
   "metadata": {},
   "outputs": [
    {
     "data": {
      "text/plain": [
       "Publication Category    467\n",
       "Publication Year        467\n",
       "PMID                      0\n",
       "DOI                     424\n",
       "Authors                 464\n",
       "Title                   465\n",
       "Journal                 332\n",
       "Short Citation          299\n",
       "ISSN                     11\n",
       "ISBN                     32\n",
       "dtype: int64"
      ]
     },
     "execution_count": 77,
     "metadata": {},
     "output_type": "execute_result"
    }
   ],
   "source": [
    "gbc_dii.count()"
   ]
  },
  {
   "cell_type": "code",
   "execution_count": 78,
   "metadata": {},
   "outputs": [],
   "source": [
    "gbc_dii_full = pd.merge(gbc_dii, gbc_dii_doi, how='left', on='DOI')"
   ]
  },
  {
   "cell_type": "code",
   "execution_count": 80,
   "metadata": {},
   "outputs": [
    {
     "data": {
      "text/plain": [
       "Publication Category    467\n",
       "Publication Year        467\n",
       "PMID_x                    0\n",
       "DOI                     424\n",
       "Authors                 464\n",
       "Title                   465\n",
       "Journal                 332\n",
       "Short Citation          299\n",
       "ISSN_x                   11\n",
       "ISBN_x                   32\n",
       "ISBN_y                    0\n",
       "PMCID                    41\n",
       "PMID_y                   40\n",
       "ISSN_y                   16\n",
       "dtype: int64"
      ]
     },
     "execution_count": 80,
     "metadata": {},
     "output_type": "execute_result"
    }
   ],
   "source": [
    "gbc_dii_full.count()"
   ]
  },
  {
   "cell_type": "code",
   "execution_count": 82,
   "metadata": {},
   "outputs": [
    {
     "data": {
      "text/plain": [
       "Publication Category    467\n",
       "Publication Year        467\n",
       "DOI                     424\n",
       "Authors                 464\n",
       "Title                   465\n",
       "Journal                 332\n",
       "Short Citation          299\n",
       "PMCID                    41\n",
       "ISSN                     27\n",
       "ISBN                     32\n",
       "PMID                     40\n",
       "dtype: int64"
      ]
     },
     "execution_count": 82,
     "metadata": {},
     "output_type": "execute_result"
    }
   ],
   "source": [
    "gbc_dii_full['ISSN'] = gbc_dii_full.ISSN_x.fillna(gbc_dii_full.ISSN_y)\n",
    "gbc_dii_full['ISBN'] = gbc_dii_full.ISBN_x.fillna(gbc_dii_full.ISBN_y)\n",
    "gbc_dii_full['PMID'] = gbc_dii_full.PMID_x.fillna(gbc_dii_full.PMID_y)\n",
    "\n",
    "gbc_dii_full.drop(['ISSN_x','ISSN_y','ISBN_x','ISBN_y', 'PMID_x', 'PMID_y',], axis=1, inplace=True)\n",
    "\n",
    "gbc_dii_full.to_csv('gbc_dii_full.csv', index=False)\n",
    "\n",
    "gbc_dii_full.count()"
   ]
  },
  {
   "cell_type": "markdown",
   "metadata": {},
   "source": [
    "# gbc_dii_full.csv to gbc_dii_ff.csv using title2pmid for row with no pmid"
   ]
  },
  {
   "cell_type": "code",
   "execution_count": 155,
   "metadata": {},
   "outputs": [],
   "source": [
    "import pandas as pd\n",
    "import numpy as np\n",
    "import urllib.parse\n",
    "import requests\n",
    "import json\n",
    "import time\n",
    "\n",
    "def title2pmid(title):\n",
    "    #pmid, pmcid, doi = None, None, None\n",
    "    \n",
    "    # Get the PubMed IDs (PMIDs) based on title\n",
    "    # https://eutils.ncbi.nlm.nih.gov/entrez/eutils/esearch.fcgi?\n",
    "    # db=pubmed&term=A+global+profile+of[title]&retmode=json&api_key=xxxxx\n",
    "    base = r'https://eutils.ncbi.nlm.nih.gov/entrez/eutils/esearch.fcgi?db=pubmed&'\n",
    "\n",
    "    title = urllib.parse.quote(title)\n",
    "\n",
    "    term = f'{title}[title]'\n",
    "\n",
    "    url = base + f\"term={term}&retmode=json&api_key=b9056d083d23b60058ea9dc7f9a802b2db08\"\n",
    "\n",
    "    try:\n",
    "        rs = requests.get(url)\n",
    "        time.sleep(0.1)# sleep for 0.1s as required by ncbi\n",
    "        rs_dict = json.loads(rs.text)\n",
    "        if len(rs_dict['esearchresult']['idlist']) >= 1:\n",
    "            pmid = rs_dict['esearchresult']['idlist'][0]\n",
    "            return pmid\n",
    "        else:\n",
    "            return None\n",
    "\n",
    "    except requests.exceptions.RequestException as e:\n",
    "        print(f'requests.get({url}) results in this error:')\n",
    "        print(e)\n",
    "        return None"
   ]
  },
  {
   "cell_type": "code",
   "execution_count": 152,
   "metadata": {},
   "outputs": [
    {
     "data": {
      "text/plain": [
       "Publication Category    467\n",
       "Publication Year        467\n",
       "DOI                     424\n",
       "Authors                 464\n",
       "Title                   465\n",
       "Journal                 332\n",
       "Short Citation          299\n",
       "PMCID                    41\n",
       "ISSN                     27\n",
       "ISBN                     32\n",
       "PMID                     40\n",
       "dtype: int64"
      ]
     },
     "execution_count": 152,
     "metadata": {},
     "output_type": "execute_result"
    }
   ],
   "source": [
    "def title2fullfill(row):\n",
    "    isna_df = row.isna()\n",
    "    \n",
    "    # if we have pmid, then is totally enough\n",
    "    if not isna_df['PMID']:\n",
    "        return row\n",
    "    \n",
    "    # if we have title, we can use title to get the pmid  \n",
    "    if not isna_df['Title']:\n",
    "        row['PMID'] = title2pmid(row['Title'])\n",
    "        \n",
    "    return row\n",
    "\n",
    "gbc_dii = pd.read_csv(\"gbc_dii_full.csv\", dtype={'PMID':'object','Publication Year':'object',})\n",
    "gbc_dii.count()"
   ]
  },
  {
   "cell_type": "code",
   "execution_count": 156,
   "metadata": {},
   "outputs": [
    {
     "data": {
      "text/plain": [
       "Publication Category    467\n",
       "Publication Year        467\n",
       "DOI                     424\n",
       "Authors                 464\n",
       "Title                   465\n",
       "Journal                 332\n",
       "Short Citation          299\n",
       "PMCID                    41\n",
       "ISSN                     27\n",
       "ISBN                     32\n",
       "PMID                    112\n",
       "dtype: int64"
      ]
     },
     "execution_count": 156,
     "metadata": {},
     "output_type": "execute_result"
    }
   ],
   "source": [
    "gbc_dii = gbc_dii.apply(title2fullfill, axis=1)\n",
    "gbc_dii.count()"
   ]
  },
  {
   "cell_type": "code",
   "execution_count": 157,
   "metadata": {},
   "outputs": [],
   "source": [
    "gbc_dii.to_csv('gbc_dii_ff.csv', index=False)"
   ]
  },
  {
   "cell_type": "markdown",
   "metadata": {},
   "source": [
    "# gbcnn_hastitle.csv to gbcnn_ht_full.csv"
   ]
  },
  {
   "cell_type": "code",
   "execution_count": 161,
   "metadata": {},
   "outputs": [
    {
     "data": {
      "text/plain": [
       "Publication Category    146\n",
       "Publication Year        144\n",
       "PMID                      0\n",
       "DOI                       0\n",
       "Authors                 140\n",
       "Title                   146\n",
       "Journal                  59\n",
       "Short Citation           74\n",
       "dtype: int64"
      ]
     },
     "execution_count": 161,
     "metadata": {},
     "output_type": "execute_result"
    }
   ],
   "source": [
    "gbcnn_hastitle = pd.read_csv(\"gbcnn_hastitle.csv\", dtype={'PMID':'object','Publication Year':'object',})\n",
    "gbcnn_hastitle.count()"
   ]
  },
  {
   "cell_type": "code",
   "execution_count": 162,
   "metadata": {},
   "outputs": [
    {
     "data": {
      "text/plain": [
       "Publication Category    146\n",
       "Publication Year        144\n",
       "PMID                     13\n",
       "DOI                       0\n",
       "Authors                 140\n",
       "Title                   146\n",
       "Journal                  59\n",
       "Short Citation           74\n",
       "dtype: int64"
      ]
     },
     "execution_count": 162,
     "metadata": {},
     "output_type": "execute_result"
    }
   ],
   "source": [
    "gbcnn_hastitle = gbcnn_hastitle.apply(title2fullfill, axis=1)\n",
    "gbcnn_hastitle.count()"
   ]
  },
  {
   "cell_type": "code",
   "execution_count": 163,
   "metadata": {},
   "outputs": [],
   "source": [
    "gbcnn_hastitle.to_csv('gbcnn_ht_ff.csv', index=False)"
   ]
  },
  {
   "cell_type": "markdown",
   "metadata": {},
   "source": [
    "# combine gbcnn_ht_ff.csv, gbc_pmid_full.csv and gbc_dii_ff.csv into gbc_ff.csv"
   ]
  },
  {
   "cell_type": "code",
   "execution_count": 171,
   "metadata": {},
   "outputs": [
    {
     "data": {
      "text/plain": [
       "Publication Category    146\n",
       "Publication Year        144\n",
       "PMID                     13\n",
       "DOI                       0\n",
       "Authors                 140\n",
       "Title                   146\n",
       "Journal                  59\n",
       "Short Citation           74\n",
       "dtype: int64"
      ]
     },
     "execution_count": 171,
     "metadata": {},
     "output_type": "execute_result"
    }
   ],
   "source": [
    "gbcnn_ht_ff = pd.read_csv('gbcnn_ht_ff.csv', dtype={'PMID':'object','Publication Year':'object','DOI':'object'}) \n",
    "gbcnn_ht_ff.count()"
   ]
  },
  {
   "cell_type": "code",
   "execution_count": 172,
   "metadata": {},
   "outputs": [
    {
     "data": {
      "text/plain": [
       "Publication Category    2578\n",
       "Publication Year        2572\n",
       "PMID                    2578\n",
       "Authors                 2576\n",
       "Title                   2576\n",
       "Journal                 2195\n",
       "Short Citation          2572\n",
       "ISBN                       0\n",
       "ISSN                     753\n",
       "PMCID                   1261\n",
       "DOI                     1237\n",
       "dtype: int64"
      ]
     },
     "execution_count": 172,
     "metadata": {},
     "output_type": "execute_result"
    }
   ],
   "source": [
    "gbc_pmid_full = pd.read_csv('gbc_pmid_full.csv', dtype={'PMID':'object','Publication Year':'object','DOI':'object','ISBN':'object'}) \n",
    "gbc_pmid_full.count()"
   ]
  },
  {
   "cell_type": "code",
   "execution_count": 173,
   "metadata": {},
   "outputs": [
    {
     "data": {
      "text/plain": [
       "Publication Category    467\n",
       "Publication Year        467\n",
       "DOI                     424\n",
       "Authors                 464\n",
       "Title                   465\n",
       "Journal                 332\n",
       "Short Citation          299\n",
       "PMCID                    41\n",
       "ISSN                     27\n",
       "ISBN                     32\n",
       "PMID                    112\n",
       "dtype: int64"
      ]
     },
     "execution_count": 173,
     "metadata": {},
     "output_type": "execute_result"
    }
   ],
   "source": [
    "gbc_dii_ff = pd.read_csv('gbc_dii_ff.csv', dtype={'PMID':'object','Publication Year':'object','DOI':'object','ISBN':'object'}) \n",
    "gbc_dii_ff.count()"
   ]
  },
  {
   "cell_type": "code",
   "execution_count": 174,
   "metadata": {},
   "outputs": [],
   "source": [
    "gbc_dii_ff = gbc_dii_ff[~gbc_dii_ff.PMID.isna()]\n",
    "gbcnn_ht_ff = gbcnn_ht_ff[~gbcnn_ht_ff.PMID.isna()]\n",
    "gbc_pmid_full = gbc_pmid_full[~gbc_pmid_full.PMID.isna()]"
   ]
  },
  {
   "cell_type": "code",
   "execution_count": 177,
   "metadata": {},
   "outputs": [],
   "source": [
    "gbc_ff = pd.concat([gbc_pmid_full, gbc_dii_ff, gbcnn_ht_ff], sort=True)"
   ]
  },
  {
   "cell_type": "code",
   "execution_count": 179,
   "metadata": {},
   "outputs": [
    {
     "name": "stdout",
     "output_type": "stream",
     "text": [
      "Authors                 2700\n",
      "DOI                     1337\n",
      "ISBN                      11\n",
      "ISSN                     770\n",
      "Journal                 2285\n",
      "PMCID                   1301\n",
      "PMID                    2703\n",
      "Publication Category    2703\n",
      "Publication Year        2697\n",
      "Short Citation          2644\n",
      "Title                   2701\n",
      "dtype: int64\n",
      "Authors                 2700\n",
      "DOI                     1337\n",
      "ISBN                      11\n",
      "ISSN                     770\n",
      "Journal                 2285\n",
      "PMCID                   1301\n",
      "PMID                    2703\n",
      "Publication Category    2703\n",
      "Publication Year        2697\n",
      "Short Citation          2644\n",
      "Title                   2701\n",
      "dtype: int64\n"
     ]
    }
   ],
   "source": [
    "print(gbc_ff.count())\n",
    "gbc_ff.drop_duplicates(keep='first', subset=['PMID'])\n",
    "print(gbc_ff.count())"
   ]
  },
  {
   "cell_type": "code",
   "execution_count": 180,
   "metadata": {},
   "outputs": [],
   "source": [
    "gbc_ff.to_csv('gbc_ff.csv', index=False)"
   ]
  }
 ],
 "metadata": {
  "kernelspec": {
   "display_name": "Python 3",
   "language": "python",
   "name": "python3"
  },
  "language_info": {
   "codemirror_mode": {
    "name": "ipython",
    "version": 3
   },
   "file_extension": ".py",
   "mimetype": "text/x-python",
   "name": "python",
   "nbconvert_exporter": "python",
   "pygments_lexer": "ipython3",
   "version": "3.7.1"
  },
  "toc": {
   "base_numbering": 1,
   "nav_menu": {},
   "number_sections": true,
   "sideBar": true,
   "skip_h1_title": false,
   "title_cell": "Table of Contents",
   "title_sidebar": "Contents",
   "toc_cell": false,
   "toc_position": {},
   "toc_section_display": true,
   "toc_window_display": false
  }
 },
 "nbformat": 4,
 "nbformat_minor": 2
}
