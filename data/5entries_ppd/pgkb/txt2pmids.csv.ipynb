{
 "cells": [
  {
   "cell_type": "markdown",
   "metadata": {},
   "source": [
    "# pmids.txt to pmids_df"
   ]
  },
  {
   "cell_type": "code",
   "execution_count": 1,
   "metadata": {},
   "outputs": [],
   "source": [
    "import pandas as pd\n",
    "\n",
    "pmids_df = pd.DataFrame({'PMID':[]})"
   ]
  },
  {
   "cell_type": "code",
   "execution_count": 2,
   "metadata": {},
   "outputs": [
    {
     "data": {
      "text/html": [
       "<div>\n",
       "<style scoped>\n",
       "    .dataframe tbody tr th:only-of-type {\n",
       "        vertical-align: middle;\n",
       "    }\n",
       "\n",
       "    .dataframe tbody tr th {\n",
       "        vertical-align: top;\n",
       "    }\n",
       "\n",
       "    .dataframe thead th {\n",
       "        text-align: right;\n",
       "    }\n",
       "</style>\n",
       "<table border=\"1\" class=\"dataframe\">\n",
       "  <thead>\n",
       "    <tr style=\"text-align: right;\">\n",
       "      <th></th>\n",
       "      <th>PMID</th>\n",
       "    </tr>\n",
       "  </thead>\n",
       "  <tbody>\n",
       "  </tbody>\n",
       "</table>\n",
       "</div>"
      ],
      "text/plain": [
       "Empty DataFrame\n",
       "Columns: [PMID]\n",
       "Index: []"
      ]
     },
     "execution_count": 2,
     "metadata": {},
     "output_type": "execute_result"
    }
   ],
   "source": [
    "pmids_df.head()"
   ]
  },
  {
   "cell_type": "code",
   "execution_count": 3,
   "metadata": {},
   "outputs": [],
   "source": [
    "with open('pmids.txt', 'r') as f:\n",
    "    lines = f.readlines()\n",
    "    lines = filter(lambda x: x and x.strip(), lines) # remove empty entities\n",
    "    lines = map(lambda x: x.strip(), lines)\n",
    "    lines = list(set(lines))# remove repeated entities\n",
    "    pmids_df = pd.concat([pmids_df, pd.DataFrame({'PMID':list(lines)})])\n",
    "    \n",
    "    \n"
   ]
  },
  {
   "cell_type": "code",
   "execution_count": 4,
   "metadata": {},
   "outputs": [
    {
     "data": {
      "text/html": [
       "<div>\n",
       "<style scoped>\n",
       "    .dataframe tbody tr th:only-of-type {\n",
       "        vertical-align: middle;\n",
       "    }\n",
       "\n",
       "    .dataframe tbody tr th {\n",
       "        vertical-align: top;\n",
       "    }\n",
       "\n",
       "    .dataframe thead th {\n",
       "        text-align: right;\n",
       "    }\n",
       "</style>\n",
       "<table border=\"1\" class=\"dataframe\">\n",
       "  <thead>\n",
       "    <tr style=\"text-align: right;\">\n",
       "      <th></th>\n",
       "      <th>PMID</th>\n",
       "    </tr>\n",
       "  </thead>\n",
       "  <tbody>\n",
       "    <tr>\n",
       "      <th>0</th>\n",
       "      <td>25999454</td>\n",
       "    </tr>\n",
       "    <tr>\n",
       "      <th>1</th>\n",
       "      <td>23640184</td>\n",
       "    </tr>\n",
       "    <tr>\n",
       "      <th>2</th>\n",
       "      <td>18466097</td>\n",
       "    </tr>\n",
       "    <tr>\n",
       "      <th>3</th>\n",
       "      <td>24474498</td>\n",
       "    </tr>\n",
       "    <tr>\n",
       "      <th>4</th>\n",
       "      <td>26710337</td>\n",
       "    </tr>\n",
       "  </tbody>\n",
       "</table>\n",
       "</div>"
      ],
      "text/plain": [
       "       PMID\n",
       "0  25999454\n",
       "1  23640184\n",
       "2  18466097\n",
       "3  24474498\n",
       "4  26710337"
      ]
     },
     "execution_count": 4,
     "metadata": {},
     "output_type": "execute_result"
    }
   ],
   "source": [
    "pmids_df.head()"
   ]
  },
  {
   "cell_type": "markdown",
   "metadata": {},
   "source": [
    "# pmcids.txt to pmids_df"
   ]
  },
  {
   "cell_type": "code",
   "execution_count": 5,
   "metadata": {},
   "outputs": [],
   "source": [
    "import requests\n",
    "import time\n",
    "import json\n",
    "\n",
    "# should return 14585767 given 2869090\n",
    "def pmcid2pmid(pmcid):\n",
    "    url = 'https://eutils.ncbi.nlm.nih.gov/entrez/eutils/elink.fcgi?dbfrom=pubmed&linkname=pmc_pubmed&'+\\\n",
    "          f'id={pmcid}'+'&format=json&api_key=b9056d083d23b60058ea9dc7f9a802b2db08'\n",
    "    try:\n",
    "        rs = requests.get(url)\n",
    "        time.sleep(0.1)\n",
    "        rs_dict = json.loads(rs.text)\n",
    "        item = rs_dict['linksets'][0]\n",
    "        if 'linksetdbs' in item:\n",
    "            return str(item['linksetdbs'][0]['links'][0])\n",
    "        else:\n",
    "            return None\n",
    "    \n",
    "    except requests.exceptions.RequestException as e:\n",
    "        print(f'requests.get({url}) results in this error:')\n",
    "        print(e)\n",
    "    "
   ]
  },
  {
   "cell_type": "code",
   "execution_count": 33,
   "metadata": {},
   "outputs": [
    {
     "name": "stdout",
     "output_type": "stream",
     "text": [
      "https://eutils.ncbi.nlm.nih.gov/entrez/eutils/elink.fcgi?dbfrom=pubmed&linkname=pmc_pubmed&id=2869090&format=json&api_key=b9056d083d23b60058ea9dc7f9a802b2db08\n"
     ]
    },
    {
     "data": {
      "text/plain": [
       "'14585767'"
      ]
     },
     "execution_count": 33,
     "metadata": {},
     "output_type": "execute_result"
    }
   ],
   "source": [
    "pmcid2pmid('2869090')"
   ]
  },
  {
   "cell_type": "code",
   "execution_count": 6,
   "metadata": {},
   "outputs": [],
   "source": [
    "with open('pmcids.txt', 'r') as f:\n",
    "    lines = f.readlines()\n",
    "    lines = filter(lambda x: x and x.strip(), lines) # remove empty entities\n",
    "    lines = map(lambda x: x.strip(), lines)\n",
    "    lines = list(set(lines))# remove repeated entities\n",
    "    lines = map(pmcid2pmid, lines)\n",
    "    lines = filter(lambda x: x and x.strip(), lines) # remove entities\n",
    "                                                     # that do not have corresponding pmids\n",
    "    pmids_df = pd.concat([pmids_df, pd.DataFrame({'PMID':list(lines)})])"
   ]
  },
  {
   "cell_type": "markdown",
   "metadata": {},
   "source": [
    "# dois.txt to pmids_df"
   ]
  },
  {
   "cell_type": "code",
   "execution_count": 12,
   "metadata": {},
   "outputs": [],
   "source": [
    "# should return 20466091 given 10.1016/j.ajhg.2010.04.006\n",
    "def doi2pmid(doi):\n",
    "    \n",
    "    url = 'https://www.ncbi.nlm.nih.gov/pmc/utils/idconv/v1.0/?'+\\\n",
    "          f'ids={doi}' + '&format=json&api_key=b9056d083d23b60058ea9dc7f9a802b2db08'\n",
    "    try:\n",
    "        rs = requests.get(url)\n",
    "        time.sleep(0.1)\n",
    "        rs_dict = json.loads(rs.text)\n",
    "        item = rs_dict['records'][0]\n",
    "        if 'pmid' in item:\n",
    "            return item['pmid']\n",
    "        else:\n",
    "            return None\n",
    "    \n",
    "    except requests.exceptions.RequestException as e:\n",
    "        print(f'requests.get({url}) results in this error:')\n",
    "        print(e)"
   ]
  },
  {
   "cell_type": "code",
   "execution_count": 13,
   "metadata": {},
   "outputs": [
    {
     "data": {
      "text/plain": [
       "'20466091'"
      ]
     },
     "execution_count": 13,
     "metadata": {},
     "output_type": "execute_result"
    }
   ],
   "source": [
    "doi2pmid('10.1016/j.ajhg.2010.04.006')"
   ]
  },
  {
   "cell_type": "code",
   "execution_count": 14,
   "metadata": {},
   "outputs": [],
   "source": [
    "with open('dois.txt', 'r') as f:\n",
    "    lines = f.readlines()\n",
    "    lines = filter(lambda x: x and x.strip(), lines) # remove empty entities\n",
    "    lines = map(lambda x: x.strip(), lines)\n",
    "    lines = list(set(lines))# remove repeated entities\n",
    "    lines = map(doi2pmid, lines)\n",
    "    lines = filter(lambda x: x and x.strip(), lines) # remove entities\n",
    "                                                     # that do not have corresponding pmids\n",
    "    pmids_df = pd.concat([pmids_df, pd.DataFrame({'PMID':list(lines)})])"
   ]
  },
  {
   "cell_type": "code",
   "execution_count": 15,
   "metadata": {},
   "outputs": [
    {
     "data": {
      "text/plain": [
       "PMID    1411\n",
       "dtype: int64"
      ]
     },
     "execution_count": 15,
     "metadata": {},
     "output_type": "execute_result"
    }
   ],
   "source": [
    "pmids_df.count()"
   ]
  },
  {
   "cell_type": "code",
   "execution_count": 16,
   "metadata": {},
   "outputs": [
    {
     "data": {
      "text/plain": [
       "PMID    object\n",
       "dtype: object"
      ]
     },
     "execution_count": 16,
     "metadata": {},
     "output_type": "execute_result"
    }
   ],
   "source": [
    "pmids_df.dtypes"
   ]
  },
  {
   "cell_type": "code",
   "execution_count": 18,
   "metadata": {},
   "outputs": [
    {
     "data": {
      "text/plain": [
       "PMID    917\n",
       "dtype: int64"
      ]
     },
     "execution_count": 18,
     "metadata": {},
     "output_type": "execute_result"
    }
   ],
   "source": [
    "pmids_df.drop_duplicates(keep='first', subset='PMID').count()"
   ]
  },
  {
   "cell_type": "code",
   "execution_count": 19,
   "metadata": {},
   "outputs": [],
   "source": [
    "pmids_df.to_csv('pmids.csv', index=False)"
   ]
  }
 ],
 "metadata": {
  "kernelspec": {
   "display_name": "Python 3",
   "language": "python",
   "name": "python3"
  },
  "language_info": {
   "codemirror_mode": {
    "name": "ipython",
    "version": 3
   },
   "file_extension": ".py",
   "mimetype": "text/x-python",
   "name": "python",
   "nbconvert_exporter": "python",
   "pygments_lexer": "ipython3",
   "version": "3.7.1"
  },
  "toc": {
   "base_numbering": 1,
   "nav_menu": {},
   "number_sections": true,
   "sideBar": true,
   "skip_h1_title": false,
   "title_cell": "Table of Contents",
   "title_sidebar": "Contents",
   "toc_cell": false,
   "toc_position": {},
   "toc_section_display": true,
   "toc_window_display": false
  }
 },
 "nbformat": 4,
 "nbformat_minor": 2
}
